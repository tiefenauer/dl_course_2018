{
 "cells": [
  {
   "cell_type": "markdown",
   "metadata": {},
   "source": [
    "# Multilayer perceptron in TensorFlow (plain vanilla)\n",
    "\n",
    "In this script we build a small multilayer perceptron with two hidden layers having 500 and 50 neurons each for classifying the MNIST database of handwritten digits."
   ]
  },
  {
   "cell_type": "code",
   "execution_count": null,
   "metadata": {},
   "outputs": [],
   "source": [
    "%matplotlib inline\n",
    "import matplotlib.pyplot as plt\n",
    "import matplotlib.image as imgplot\n",
    "import numpy as np\n",
    "import time\n",
    "import tensorflow as tf\n",
    "import pandas as pd\n",
    "tf.set_random_seed(1)\n",
    "np.random.seed(1)\n",
    "import sys\n",
    "tf.__version__, sys.version_info"
   ]
  },
  {
   "cell_type": "code",
   "execution_count": null,
   "metadata": {},
   "outputs": [],
   "source": [
    "# To be compatible with python3 and python2\n",
    "try:\n",
    "    import cPickle as pickle\n",
    "except ImportError:\n",
    "    import pickle\n",
    "import gzip\n",
    "\n",
    "with gzip.open('../data/mnist_4000.pkl.gz', 'rb') as f:\n",
    "    if sys.version_info.major > 2:\n",
    "        (X,y) = pickle.load(f, encoding='latin1')\n",
    "    else:\n",
    "        (X,y) = pickle.load(f)\n",
    "PIXELS = len(X[0,0,0,:])\n",
    "\n",
    "print(X.shape, y.shape, PIXELS) #As read\n",
    "# We need to reshape for the MLP\n",
    "X = X.reshape([4000, 784])\n",
    "np.shape(X)"
   ]
  },
  {
   "cell_type": "code",
   "execution_count": null,
   "metadata": {},
   "outputs": [],
   "source": [
    "# Taken from http://stackoverflow.com/questions/29831489/numpy-1-hot-array\n",
    "def convertToOneHot(vector, num_classes=None):\n",
    "    result = np.zeros((len(vector), num_classes), dtype='int32')\n",
    "    result[np.arange(len(vector)), vector] = 1\n",
    "    return result"
   ]
  },
  {
   "cell_type": "markdown",
   "metadata": {},
   "source": [
    "## Building the network\n",
    "Build a network with the following architecture.\n",
    "\n",
    "### Definition of the network (architecture)\n",
    "\n",
    "* An Input Layer with the following 2-dimensions: \n",
    "    * 0: Batch Size yet unkown hence `None`\n",
    "    * 1: 784 = 28*28 pixels\n",
    "* A hidden layer with 500 units\n",
    "* A second hidden layer with 50 units\n",
    "* An output layer with 10 units\n",
    "\n",
    "### Hints\n",
    "* The weights can be specified and intitialized as\n",
    "```{python}\n",
    "    w_1 = tf.Variable(tf.random_normal([784, 500]))\n",
    "```\n",
    "* Use ```tf.nn.sigmoid``` activations for the hidden layer"
   ]
  },
  {
   "cell_type": "code",
   "execution_count": null,
   "metadata": {},
   "outputs": [],
   "source": [
    "tf.reset_default_graph()\n",
    "tf.set_random_seed(1)\n",
    "x = tf.placeholder(tf.float32, shape=[None, 784], name='x_data')\n",
    "y_true = tf.placeholder(tf.float32, shape=[None, 10], name='y_data')\n",
    "\n",
    "# From Input to first hidden layer\n",
    "w_1 = tf.Variable(tf.random_normal([784, 500], stddev=0.1))\n",
    "b_1 = tf.Variable(tf.random_normal([500]))\n",
    "h_1_in = tf.add(tf.matmul(x, w_1), b_1)\n",
    "h_1_out = tf.nn.sigmoid(h_1_in)\n",
    "\n",
    "# From first hidden layer to second hidden layer\n",
    "# <--- Your code here --->\n",
    "w_2 = ...\n",
    "b_2 = ...\n",
    "h_2_in = ...\n",
    "h_2_out = ...\n",
    "# <--- End of your code here --->\n",
    "\n",
    "# From second hidden layer to output\n",
    "w_3 = tf.Variable(tf.random_normal([50, 10], stddev=0.1))\n",
    "b_3 = tf.Variable(tf.random_normal([10]))\n",
    "h_3_in = tf.add(tf.matmul(h_2_out, w_3), b_3)\n",
    "\n",
    "# Output is softmax\n",
    "out = tf.nn.softmax(h_3_in)\n",
    "init_op = tf.global_variables_initializer() "
   ]
  },
  {
   "cell_type": "markdown",
   "metadata": {},
   "source": [
    "### Store the graph and visualize it in tensorflow"
   ]
  },
  {
   "cell_type": "code",
   "execution_count": null,
   "metadata": {},
   "outputs": [],
   "source": [
    "tf.summary.FileWriter(\"tmp/fcn_minst_tensorflow/\", tf.get_default_graph()) #<--- Where to store"
   ]
  },
  {
   "cell_type": "markdown",
   "metadata": {},
   "source": [
    "### Doing a forward pass of the untrained network"
   ]
  },
  {
   "cell_type": "code",
   "execution_count": null,
   "metadata": {},
   "outputs": [],
   "source": [
    "with tf.Session() as sess:\n",
    "    sess.run(init_op)\n",
    "    res_val = sess.run(out, feed_dict={x:X[0:2]})\n",
    "res_val"
   ]
  },
  {
   "cell_type": "markdown",
   "metadata": {},
   "source": [
    "### Train the model"
   ]
  },
  {
   "cell_type": "code",
   "execution_count": null,
   "metadata": {},
   "outputs": [],
   "source": [
    "loss = tf.reduce_mean(-tf.reduce_sum(y_true * tf.log(out), reduction_indices=[1]))\n",
    "# <---- Your code here (fix the optimzer)\n",
    "train_op = tf.train.GradientDescentOptimizer(0.05).minimize(loss)\n",
    "init_op = tf.global_variables_initializer() \n",
    "vals = []\n",
    "with tf.Session() as sess:\n",
    "    sess.run(init_op)\n",
    "    for i in range(4000):\n",
    "        idx = np.random.permutation(2400)[0:128] #Easy minibatch of size 128\n",
    "        loss_, _, res_ = sess.run((loss, train_op,out), feed_dict={x:X[idx], y_true:convertToOneHot(y[idx], 10)})\n",
    "        if (i % 100 == 0):\n",
    "            acc = np.average(np.argmax(res_, axis = 1) == y[idx]) \n",
    "            # <---------   Your code here -----------------\n",
    "            # Get the results for the validation results (from 2400:3000)\n",
    "            # Now calculate loss and result for validation set 2400:3000\n",
    "            loss_v, res_val = sess.run([loss, out], feed_dict={x:...}\n",
    "            acc_v = np.average(np.argmax(res_val, axis = 1) == y[2400:3000])\n",
    "            # <---------  End of your code here\n",
    "            vals.append([loss_, acc, loss_v, acc_v])\n",
    "            print(\"{} Training: loss {} acc {} Validation: loss {} acc {}\".format(i, loss_, acc, loss_v, acc_v))"
   ]
  },
  {
   "cell_type": "code",
   "execution_count": null,
   "metadata": {},
   "outputs": [],
   "source": [
    "vals_df = pd.DataFrame(vals)\n",
    "vals_df.columns = ['tr_loss', 'tr_acc', 'val_loss', 'val_acc']\n",
    "vals_df['epochs'] = (np.asarray(range(len(vals_df))) * 100.0 * 128. / 2400)\n",
    "plt.plot(vals_df['epochs'],vals_df[[\"tr_acc\",\"val_acc\"]])\n",
    "plt.legend(['tr_acc', 'val_acc'], loc='lower right')\n",
    "plt.ylabel(\"Acc\")\n",
    "plt.xlabel(\"Epochs\")\n",
    "plt.title(\"model acc\")\n",
    "plt.show()\n",
    "plt.plot(vals_df['epochs'],vals_df[[\"tr_loss\",\"val_loss\"]])\n",
    "plt.legend(['tr_loss', 'val_loss'], loc='upper right')\n",
    "plt.ylabel(\"Loss\")\n",
    "plt.xlabel(\"Epochs\")\n",
    "plt.title(\"model loss\")\n",
    "plt.show()"
   ]
  },
  {
   "cell_type": "code",
   "execution_count": null,
   "metadata": {},
   "outputs": [],
   "source": [
    "!tensorboard --logdir=tmp/fcn_minst_tensorflow/"
   ]
  },
  {
   "cell_type": "code",
   "execution_count": null,
   "metadata": {},
   "outputs": [],
   "source": []
  }
 ],
 "metadata": {
  "kernelspec": {
   "display_name": "Python 3",
   "language": "python",
   "name": "python3"
  },
  "language_info": {
   "codemirror_mode": {
    "name": "ipython",
    "version": 3
   },
   "file_extension": ".py",
   "mimetype": "text/x-python",
   "name": "python",
   "nbconvert_exporter": "python",
   "pygments_lexer": "ipython3",
   "version": "3.5.2"
  }
 },
 "nbformat": 4,
 "nbformat_minor": 1
}
