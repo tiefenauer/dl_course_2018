{
 "cells": [
  {
   "cell_type": "markdown",
   "metadata": {},
   "source": [
    "# Using CNN  on a small MNIST data set\n",
    "\n",
    "In this script we build a small CNN with 1 convolutional layer and 1 dense layer. Like in the experiments with the fully connected NN with MNIST that we performed last time, we use again a small data with only 2400 images in the training data set so that the NN can be trained on the CPU."
   ]
  },
  {
   "cell_type": "code",
   "execution_count": 1,
   "metadata": {
    "scrolled": true
   },
   "outputs": [
    {
     "name": "stderr",
     "output_type": "stream",
     "text": [
      "/usr/local/lib/python3.5/dist-packages/h5py/__init__.py:36: FutureWarning: Conversion of the second argument of issubdtype from `float` to `np.floating` is deprecated. In future, it will be treated as `np.float64 == np.dtype(float).type`.\n",
      "  from ._conv import register_converters as _register_converters\n",
      "Using TensorFlow backend.\n"
     ]
    },
    {
     "name": "stdout",
     "output_type": "stream",
     "text": [
      "Keras 2.1.4 TF 1.6.0 Python sys.version_info(major=3, minor=5, micro=2, releaselevel='final', serial=0)\n"
     ]
    }
   ],
   "source": [
    "%matplotlib inline\n",
    "\n",
    "import matplotlib.pyplot as plt\n",
    "import matplotlib.image as imgplot\n",
    "import numpy as np\n",
    "import pandas as pd\n",
    "from sklearn.metrics import confusion_matrix\n",
    "from IPython.display import SVG\n",
    "from keras.utils.vis_utils import model_to_dot\n",
    "\n",
    "import time\n",
    "import tensorflow as tf\n",
    "tf.set_random_seed(1)\n",
    "\n",
    "from keras.models import Sequential\n",
    "from keras.layers import Dense, Activation, Dropout, BatchNormalization\n",
    "from keras.layers import Convolution2D, MaxPooling2D, Flatten\n",
    "import keras\n",
    "import sys\n",
    "print (\"Keras {} TF {} Python {}\".format(keras.__version__, tf.__version__, sys.version_info))"
   ]
  },
  {
   "cell_type": "code",
   "execution_count": 2,
   "metadata": {},
   "outputs": [],
   "source": [
    "from keras.datasets import mnist\n",
    "(x_train, y_train), (x_test, y_test) = mnist.load_data()\n",
    "X_train=x_train[0:2400]\n",
    "Y_train=y_train[0:2400]\n",
    "\n",
    "X_val=x_train[2400:3000]\n",
    "Y_val=y_train[2400:3000]\n",
    "\n",
    "X_test=x_test[0:1000]\n",
    "Y_test=y_test[0:1000]\n",
    "\n",
    "del x_train, y_train, x_test, y_test\n"
   ]
  },
  {
   "cell_type": "code",
   "execution_count": 3,
   "metadata": {},
   "outputs": [
    {
     "name": "stdout",
     "output_type": "stream",
     "text": [
      "(2400, 28, 28, 1)\n",
      "(600, 28, 28, 1)\n",
      "(1000, 28, 28, 1)\n"
     ]
    }
   ],
   "source": [
    "X_train=np.reshape(X_train, (2400,28,28,1))\n",
    "X_val=np.reshape(X_val, (600,28,28,1))\n",
    "X_test=np.reshape(X_test, (1000,28,28,1))\n",
    "\n",
    "print(X_train.shape)\n",
    "print(X_val.shape)\n",
    "print(X_test.shape)"
   ]
  },
  {
   "cell_type": "code",
   "execution_count": 4,
   "metadata": {},
   "outputs": [
    {
     "data": {
      "text/plain": [
       "<matplotlib.image.AxesImage at 0x7f1be2c42e80>"
      ]
     },
     "execution_count": 4,
     "metadata": {},
     "output_type": "execute_result"
    },
    {
     "data": {
      "image/png": "[encoded data removed]",
      "text/plain": [
       "<matplotlib.figure.Figure at 0x7f1be80c7470>"
      ]
     },
     "metadata": {},
     "output_type": "display_data"
    }
   ],
   "source": [
    "plt.imshow(X_train[13,:,:,0],cmap=\"gray\")"
   ]
  },
  {
   "cell_type": "code",
   "execution_count": 5,
   "metadata": {},
   "outputs": [
    {
     "data": {
      "text/html": [
       "<div>\n",
       "<style scoped>\n",
       "    .dataframe tbody tr th:only-of-type {\n",
       "        vertical-align: middle;\n",
       "    }\n",
       "\n",
       "    .dataframe tbody tr th {\n",
       "        vertical-align: top;\n",
       "    }\n",
       "\n",
       "    .dataframe thead th {\n",
       "        text-align: right;\n",
       "    }\n",
       "</style>\n",
       "<table border=\"1\" class=\"dataframe\">\n",
       "  <thead>\n",
       "    <tr style=\"text-align: right;\">\n",
       "      <th></th>\n",
       "      <th>train_label</th>\n",
       "      <th>#train_examples</th>\n",
       "      <th>val_label</th>\n",
       "      <th>#val_examples</th>\n",
       "      <th>test_label</th>\n",
       "      <th>#test_examples</th>\n",
       "    </tr>\n",
       "  </thead>\n",
       "  <tbody>\n",
       "    <tr>\n",
       "      <th>0</th>\n",
       "      <td>0</td>\n",
       "      <td>225</td>\n",
       "      <td>0</td>\n",
       "      <td>60</td>\n",
       "      <td>0</td>\n",
       "      <td>85</td>\n",
       "    </tr>\n",
       "    <tr>\n",
       "      <th>1</th>\n",
       "      <td>1</td>\n",
       "      <td>265</td>\n",
       "      <td>1</td>\n",
       "      <td>74</td>\n",
       "      <td>1</td>\n",
       "      <td>126</td>\n",
       "    </tr>\n",
       "    <tr>\n",
       "      <th>2</th>\n",
       "      <td>2</td>\n",
       "      <td>238</td>\n",
       "      <td>2</td>\n",
       "      <td>61</td>\n",
       "      <td>2</td>\n",
       "      <td>116</td>\n",
       "    </tr>\n",
       "    <tr>\n",
       "      <th>3</th>\n",
       "      <td>3</td>\n",
       "      <td>231</td>\n",
       "      <td>3</td>\n",
       "      <td>64</td>\n",
       "      <td>3</td>\n",
       "      <td>107</td>\n",
       "    </tr>\n",
       "    <tr>\n",
       "      <th>4</th>\n",
       "      <td>4</td>\n",
       "      <td>263</td>\n",
       "      <td>4</td>\n",
       "      <td>62</td>\n",
       "      <td>4</td>\n",
       "      <td>110</td>\n",
       "    </tr>\n",
       "    <tr>\n",
       "      <th>5</th>\n",
       "      <td>5</td>\n",
       "      <td>219</td>\n",
       "      <td>5</td>\n",
       "      <td>55</td>\n",
       "      <td>5</td>\n",
       "      <td>87</td>\n",
       "    </tr>\n",
       "    <tr>\n",
       "      <th>6</th>\n",
       "      <td>6</td>\n",
       "      <td>243</td>\n",
       "      <td>6</td>\n",
       "      <td>63</td>\n",
       "      <td>6</td>\n",
       "      <td>87</td>\n",
       "    </tr>\n",
       "    <tr>\n",
       "      <th>7</th>\n",
       "      <td>7</td>\n",
       "      <td>265</td>\n",
       "      <td>7</td>\n",
       "      <td>64</td>\n",
       "      <td>7</td>\n",
       "      <td>99</td>\n",
       "    </tr>\n",
       "    <tr>\n",
       "      <th>8</th>\n",
       "      <td>8</td>\n",
       "      <td>213</td>\n",
       "      <td>8</td>\n",
       "      <td>48</td>\n",
       "      <td>8</td>\n",
       "      <td>89</td>\n",
       "    </tr>\n",
       "    <tr>\n",
       "      <th>9</th>\n",
       "      <td>9</td>\n",
       "      <td>238</td>\n",
       "      <td>9</td>\n",
       "      <td>49</td>\n",
       "      <td>9</td>\n",
       "      <td>94</td>\n",
       "    </tr>\n",
       "  </tbody>\n",
       "</table>\n",
       "</div>"
      ],
      "text/plain": [
       "   train_label  #train_examples  val_label  #val_examples  test_label  \\\n",
       "0            0              225          0             60           0   \n",
       "1            1              265          1             74           1   \n",
       "2            2              238          2             61           2   \n",
       "3            3              231          3             64           3   \n",
       "4            4              263          4             62           4   \n",
       "5            5              219          5             55           5   \n",
       "6            6              243          6             63           6   \n",
       "7            7              265          7             64           7   \n",
       "8            8              213          8             48           8   \n",
       "9            9              238          9             49           9   \n",
       "\n",
       "   #test_examples  \n",
       "0              85  \n",
       "1             126  \n",
       "2             116  \n",
       "3             107  \n",
       "4             110  \n",
       "5              87  \n",
       "6              87  \n",
       "7              99  \n",
       "8              89  \n",
       "9              94  "
      ]
     },
     "execution_count": 5,
     "metadata": {},
     "output_type": "execute_result"
    }
   ],
   "source": [
    "pd.DataFrame(np.hstack((np.transpose(np.unique(Y_train,return_counts=True)),\n",
    "                        np.transpose(np.unique(Y_val,return_counts=True)),\n",
    "                        np.transpose(np.unique(Y_test,return_counts=True)))),\n",
    "                        columns=[\"train_label\",\"#train_examples\",\n",
    "                                 \"val_label\",\"#val_examples\",\n",
    "                                 \"test_label\",\"#test_examples\"])"
   ]
  },
  {
   "cell_type": "code",
   "execution_count": 6,
   "metadata": {},
   "outputs": [
    {
     "name": "stdout",
     "output_type": "stream",
     "text": [
      "class label\n",
      "[5 0 4 1 9]\n",
      "class label in OneHot encodig\n",
      "[[0. 0. 0. 0. 0. 1. 0. 0. 0. 0.]\n",
      " [1. 0. 0. 0. 0. 0. 0. 0. 0. 0.]\n",
      " [0. 0. 0. 0. 1. 0. 0. 0. 0. 0.]\n",
      " [0. 1. 0. 0. 0. 0. 0. 0. 0. 0.]\n",
      " [0. 0. 0. 0. 0. 0. 0. 0. 0. 1.]]\n"
     ]
    }
   ],
   "source": [
    "def convertToOneHot(vector, num_classes=None):\n",
    "    result = np.zeros((len(vector), num_classes), dtype='float32')\n",
    "    result[np.arange(len(vector)), vector] = 1\n",
    "    return result\n",
    "print(\"class label\")\n",
    "print(Y_train[0:5])\n",
    "print(\"class label in OneHot encodig\")\n",
    "print(convertToOneHot(Y_train[0:5], 10))"
   ]
  },
  {
   "cell_type": "code",
   "execution_count": 7,
   "metadata": {},
   "outputs": [
    {
     "name": "stdout",
     "output_type": "stream",
     "text": [
      "(2400, 10)\n",
      "(600, 10)\n"
     ]
    }
   ],
   "source": [
    "Y_train=convertToOneHot(Y_train,num_classes=10)\n",
    "print(Y_train.shape)\n",
    "Y_val=convertToOneHot(Y_val,num_classes=10)\n",
    "print(Y_val.shape)"
   ]
  },
  {
   "cell_type": "markdown",
   "metadata": {},
   "source": [
    "## CNN without standardizing the data \n"
   ]
  },
  {
   "cell_type": "code",
   "execution_count": 8,
   "metadata": {},
   "outputs": [],
   "source": [
    "## here is the code to center and standardize the data\n",
    "## lets try what happens without centering...\n",
    "#X_mean = np.mean( X_train, axis = 0)\n",
    "#X_std = np.std( X_train, axis = 0)\n",
    "\n",
    "#X_train = (X_train - X_mean ) / (X_std + 0.0001)\n",
    "#X_val = (X_val - X_mean ) / (X_std + 0.0001)"
   ]
  },
  {
   "cell_type": "code",
   "execution_count": 9,
   "metadata": {},
   "outputs": [],
   "source": [
    "### First model with a convolutional layer\n",
    "name = 'cnn1'\n",
    "model = Sequential()\n",
    "\n",
    "model.add(Convolution2D(32, (3, 3), padding='same', input_shape=(28, 28, 1)))\n",
    "model.add(Activation('relu'))\n",
    "\n",
    "model.add(Flatten())\n",
    "\n",
    "model.add(Dense(10))\n",
    "model.add(Activation('softmax'))\n",
    "\n",
    "model.compile(loss='categorical_crossentropy',\n",
    "              optimizer='adam',\n",
    "              metrics=['accuracy'])"
   ]
  },
  {
   "cell_type": "code",
   "execution_count": 10,
   "metadata": {},
   "outputs": [
    {
     "name": "stdout",
     "output_type": "stream",
     "text": [
      "_________________________________________________________________\n",
      "Layer (type)                 Output Shape              Param #   \n",
      "=================================================================\n",
      "conv2d_1 (Conv2D)            (None, 28, 28, 32)        320       \n",
      "_________________________________________________________________\n",
      "activation_1 (Activation)    (None, 28, 28, 32)        0         \n",
      "_________________________________________________________________\n",
      "flatten_1 (Flatten)          (None, 25088)             0         \n",
      "_________________________________________________________________\n",
      "dense_1 (Dense)              (None, 10)                250890    \n",
      "_________________________________________________________________\n",
      "activation_2 (Activation)    (None, 10)                0         \n",
      "=================================================================\n",
      "Total params: 251,210\n",
      "Trainable params: 251,210\n",
      "Non-trainable params: 0\n",
      "_________________________________________________________________\n"
     ]
    }
   ],
   "source": [
    "model.summary()"
   ]
  },
  {
   "cell_type": "code",
   "execution_count": 11,
   "metadata": {},
   "outputs": [
    {
     "data": {
      "image/svg+xml": [
       "<svg height=\"410pt\" viewBox=\"0.00 0.00 227.00 410.00\" width=\"227pt\" xmlns=\"http://www.w3.org/2000/svg\" xmlns:xlink=\"http://www.w3.org/1999/xlink\">\n",
       "<g class=\"graph\" id=\"graph0\" transform=\"scale(1 1) rotate(0) translate(4 406)\">\n",
       "<title>G</title>\n",
       "<polygon fill=\"white\" points=\"-4,4 -4,-406 223,-406 223,4 -4,4\" stroke=\"none\"/>\n",
       "<!-- 139757833974280 -->\n",
       "<g class=\"node\" id=\"node1\"><title>139757833974280</title>\n",
       "<polygon fill=\"none\" points=\"0,-365.5 0,-401.5 219,-401.5 219,-365.5 0,-365.5\" stroke=\"black\"/>\n",
       "<text font-family=\"Times,serif\" font-size=\"14.00\" text-anchor=\"middle\" x=\"109.5\" y=\"-379.8\">conv2d_1_input: InputLayer</text>\n",
       "</g>\n",
       "<!-- 139758018049304 -->\n",
       "<g class=\"node\" id=\"node2\"><title>139758018049304</title>\n",
       "<polygon fill=\"none\" points=\"34,-292.5 34,-328.5 185,-328.5 185,-292.5 34,-292.5\" stroke=\"black\"/>\n",
       "<text font-family=\"Times,serif\" font-size=\"14.00\" text-anchor=\"middle\" x=\"109.5\" y=\"-306.8\">conv2d_1: Conv2D</text>\n",
       "</g>\n",
       "<!-- 139757833974280&#45;&gt;139758018049304 -->\n",
       "<g class=\"edge\" id=\"edge1\"><title>139757833974280-&gt;139758018049304</title>\n",
       "<path d=\"M109.5,-365.313C109.5,-357.289 109.5,-347.547 109.5,-338.569\" fill=\"none\" stroke=\"black\"/>\n",
       "<polygon fill=\"black\" points=\"113,-338.529 109.5,-328.529 106,-338.529 113,-338.529\" stroke=\"black\"/>\n",
       "</g>\n",
       "<!-- 139757833974616 -->\n",
       "<g class=\"node\" id=\"node3\"><title>139757833974616</title>\n",
       "<polygon fill=\"none\" points=\"16,-219.5 16,-255.5 203,-255.5 203,-219.5 16,-219.5\" stroke=\"black\"/>\n",
       "<text font-family=\"Times,serif\" font-size=\"14.00\" text-anchor=\"middle\" x=\"109.5\" y=\"-233.8\">activation_1: Activation</text>\n",
       "</g>\n",
       "<!-- 139758018049304&#45;&gt;139757833974616 -->\n",
       "<g class=\"edge\" id=\"edge2\"><title>139758018049304-&gt;139757833974616</title>\n",
       "<path d=\"M109.5,-292.313C109.5,-284.289 109.5,-274.547 109.5,-265.569\" fill=\"none\" stroke=\"black\"/>\n",
       "<polygon fill=\"black\" points=\"113,-265.529 109.5,-255.529 106,-265.529 113,-265.529\" stroke=\"black\"/>\n",
       "</g>\n",
       "<!-- 139757833977024 -->\n",
       "<g class=\"node\" id=\"node4\"><title>139757833977024</title>\n",
       "<polygon fill=\"none\" points=\"39.5,-146.5 39.5,-182.5 179.5,-182.5 179.5,-146.5 39.5,-146.5\" stroke=\"black\"/>\n",
       "<text font-family=\"Times,serif\" font-size=\"14.00\" text-anchor=\"middle\" x=\"109.5\" y=\"-160.8\">flatten_1: Flatten</text>\n",
       "</g>\n",
       "<!-- 139757833974616&#45;&gt;139757833977024 -->\n",
       "<g class=\"edge\" id=\"edge3\"><title>139757833974616-&gt;139757833977024</title>\n",
       "<path d=\"M109.5,-219.313C109.5,-211.289 109.5,-201.547 109.5,-192.569\" fill=\"none\" stroke=\"black\"/>\n",
       "<polygon fill=\"black\" points=\"113,-192.529 109.5,-182.529 106,-192.529 113,-192.529\" stroke=\"black\"/>\n",
       "</g>\n",
       "<!-- 139757833975008 -->\n",
       "<g class=\"node\" id=\"node5\"><title>139757833975008</title>\n",
       "<polygon fill=\"none\" points=\"45.5,-73.5 45.5,-109.5 173.5,-109.5 173.5,-73.5 45.5,-73.5\" stroke=\"black\"/>\n",
       "<text font-family=\"Times,serif\" font-size=\"14.00\" text-anchor=\"middle\" x=\"109.5\" y=\"-87.8\">dense_1: Dense</text>\n",
       "</g>\n",
       "<!-- 139757833977024&#45;&gt;139757833975008 -->\n",
       "<g class=\"edge\" id=\"edge4\"><title>139757833977024-&gt;139757833975008</title>\n",
       "<path d=\"M109.5,-146.313C109.5,-138.289 109.5,-128.547 109.5,-119.569\" fill=\"none\" stroke=\"black\"/>\n",
       "<polygon fill=\"black\" points=\"113,-119.529 109.5,-109.529 106,-119.529 113,-119.529\" stroke=\"black\"/>\n",
       "</g>\n",
       "<!-- 139757745154368 -->\n",
       "<g class=\"node\" id=\"node6\"><title>139757745154368</title>\n",
       "<polygon fill=\"none\" points=\"16,-0.5 16,-36.5 203,-36.5 203,-0.5 16,-0.5\" stroke=\"black\"/>\n",
       "<text font-family=\"Times,serif\" font-size=\"14.00\" text-anchor=\"middle\" x=\"109.5\" y=\"-14.8\">activation_2: Activation</text>\n",
       "</g>\n",
       "<!-- 139757833975008&#45;&gt;139757745154368 -->\n",
       "<g class=\"edge\" id=\"edge5\"><title>139757833975008-&gt;139757745154368</title>\n",
       "<path d=\"M109.5,-73.3129C109.5,-65.2895 109.5,-55.5475 109.5,-46.5691\" fill=\"none\" stroke=\"black\"/>\n",
       "<polygon fill=\"black\" points=\"113,-46.5288 109.5,-36.5288 106,-46.5289 113,-46.5288\" stroke=\"black\"/>\n",
       "</g>\n",
       "</g>\n",
       "</svg>"
      ],
      "text/plain": [
       "<IPython.core.display.SVG object>"
      ]
     },
     "execution_count": 11,
     "metadata": {},
     "output_type": "execute_result"
    }
   ],
   "source": [
    "SVG(model_to_dot(model).create(prog='dot', format='svg'))"
   ]
  },
  {
   "cell_type": "code",
   "execution_count": 12,
   "metadata": {},
   "outputs": [
    {
     "name": "stdout",
     "output_type": "stream",
     "text": [
      "2400/2400 [==============================] - 1s 374us/step\n"
     ]
    },
    {
     "data": {
      "text/plain": [
       "[13.565380922953288, 0.07625]"
      ]
     },
     "execution_count": 12,
     "metadata": {},
     "output_type": "execute_result"
    }
   ],
   "source": [
    "model.evaluate(X_train,Y_train)"
   ]
  },
  {
   "cell_type": "code",
   "execution_count": 13,
   "metadata": {},
   "outputs": [],
   "source": [
    "tensorboard = keras.callbacks.TensorBoard(\n",
    "        log_dir='tensorboard/mnist/' + name + '/', \n",
    "        write_graph=True,\n",
    "        histogram_freq=0)"
   ]
  },
  {
   "cell_type": "code",
   "execution_count": 14,
   "metadata": {},
   "outputs": [
    {
     "name": "stdout",
     "output_type": "stream",
     "text": [
      "Train on 2400 samples, validate on 600 samples\n",
      "Epoch 1/30\n",
      " - 3s - loss: 8.7486 - acc: 0.4387 - val_loss: 7.3257 - val_acc: 0.5350\n",
      "Epoch 2/30\n",
      " - 2s - loss: 7.1813 - acc: 0.5508 - val_loss: 7.0342 - val_acc: 0.5600\n",
      "Epoch 3/30\n",
      " - 2s - loss: 6.7524 - acc: 0.5775 - val_loss: 6.4392 - val_acc: 0.5967\n",
      "Epoch 4/30\n",
      " - 2s - loss: 6.5573 - acc: 0.5917 - val_loss: 6.8144 - val_acc: 0.5750\n",
      "Epoch 5/30\n",
      " - 2s - loss: 6.5619 - acc: 0.5900 - val_loss: 6.5996 - val_acc: 0.5867\n",
      "Epoch 6/30\n",
      " - 2s - loss: 6.5431 - acc: 0.5921 - val_loss: 6.5573 - val_acc: 0.5917\n",
      "Epoch 7/30\n",
      " - 3s - loss: 6.9078 - acc: 0.5663 - val_loss: 7.4621 - val_acc: 0.5317\n",
      "Epoch 8/30\n",
      " - 2s - loss: 6.8220 - acc: 0.5738 - val_loss: 6.7065 - val_acc: 0.5800\n",
      "Epoch 9/30\n",
      " - 2s - loss: 6.3452 - acc: 0.6042 - val_loss: 6.6361 - val_acc: 0.5883\n",
      "Epoch 10/30\n",
      " - 2s - loss: 6.6473 - acc: 0.5862 - val_loss: 6.6900 - val_acc: 0.5850\n",
      "Epoch 11/30\n",
      " - 2s - loss: 6.5163 - acc: 0.5933 - val_loss: 6.3235 - val_acc: 0.6067\n",
      "Epoch 12/30\n",
      " - 2s - loss: 6.6454 - acc: 0.5867 - val_loss: 6.9068 - val_acc: 0.5700\n",
      "Epoch 13/30\n",
      " - 3s - loss: 6.5821 - acc: 0.5904 - val_loss: 6.3840 - val_acc: 0.6017\n",
      "Epoch 14/30\n",
      " - 2s - loss: 6.1852 - acc: 0.6150 - val_loss: 6.6602 - val_acc: 0.5867\n",
      "Epoch 15/30\n",
      " - 2s - loss: 6.5740 - acc: 0.5908 - val_loss: 6.3247 - val_acc: 0.6067\n",
      "Epoch 16/30\n",
      " - 2s - loss: 6.4075 - acc: 0.6013 - val_loss: 6.5487 - val_acc: 0.5917\n",
      "Epoch 17/30\n",
      " - 2s - loss: 6.5112 - acc: 0.5946 - val_loss: 6.0174 - val_acc: 0.6267\n",
      "Epoch 18/30\n",
      " - 2s - loss: 6.1047 - acc: 0.6204 - val_loss: 6.6416 - val_acc: 0.5850\n",
      "Epoch 19/30\n",
      " - 2s - loss: 6.5899 - acc: 0.5904 - val_loss: 5.8025 - val_acc: 0.6400\n",
      "Epoch 20/30\n",
      " - 2s - loss: 6.5278 - acc: 0.5937 - val_loss: 6.5503 - val_acc: 0.5933\n",
      "Epoch 21/30\n",
      " - 3s - loss: 6.8901 - acc: 0.5721 - val_loss: 6.7427 - val_acc: 0.5817\n",
      "Epoch 22/30\n",
      " - 2s - loss: 7.1313 - acc: 0.5563 - val_loss: 6.6805 - val_acc: 0.5817\n",
      "Epoch 23/30\n",
      " - 2s - loss: 6.6296 - acc: 0.5875 - val_loss: 7.0121 - val_acc: 0.5650\n",
      "Epoch 24/30\n",
      " - 2s - loss: 6.3776 - acc: 0.6038 - val_loss: 6.4879 - val_acc: 0.5950\n",
      "Epoch 25/30\n",
      " - 2s - loss: 6.0846 - acc: 0.6212 - val_loss: 6.2055 - val_acc: 0.6150\n",
      "Epoch 26/30\n",
      " - 2s - loss: 6.4538 - acc: 0.5988 - val_loss: 6.8778 - val_acc: 0.5717\n",
      "Epoch 27/30\n",
      " - 2s - loss: 6.1865 - acc: 0.6150 - val_loss: 6.0638 - val_acc: 0.6233\n",
      "Epoch 28/30\n",
      " - 2s - loss: 6.3431 - acc: 0.6058 - val_loss: 6.5857 - val_acc: 0.5900\n",
      "Epoch 29/30\n",
      " - 2s - loss: 6.2257 - acc: 0.6138 - val_loss: 6.5278 - val_acc: 0.5950\n",
      "Epoch 30/30\n",
      " - 2s - loss: 6.2070 - acc: 0.6138 - val_loss: 6.5199 - val_acc: 0.5950\n"
     ]
    }
   ],
   "source": [
    "history=model.fit(X_train, Y_train, \n",
    "                  batch_size=128, \n",
    "                  epochs=30,\n",
    "                  verbose=2, \n",
    "                  validation_data=(X_val, Y_val),\n",
    "                  callbacks=[tensorboard])"
   ]
  },
  {
   "cell_type": "code",
   "execution_count": 15,
   "metadata": {},
   "outputs": [
    {
     "data": {
      "image/png": "[encoded data removed]",
      "text/plain": [
       "<matplotlib.figure.Figure at 0x7f1bdb465780>"
      ]
     },
     "metadata": {},
     "output_type": "display_data"
    },
    {
     "data": {
      "image/png": "[encoded data removed]",
      "text/plain": [
       "<matplotlib.figure.Figure at 0x7f1be2b86f28>"
      ]
     },
     "metadata": {},
     "output_type": "display_data"
    }
   ],
   "source": [
    "# summarize history for accuracy\n",
    "plt.plot(history.history['acc'])\n",
    "plt.plot(history.history['val_acc'])\n",
    "plt.title('model accuracy')\n",
    "plt.ylabel('accuracy')\n",
    "plt.xlabel('epoch')\n",
    "plt.legend(['train', 'valid'], loc='lower right')\n",
    "plt.show()\n",
    "plt.plot(history.history['loss'])\n",
    "plt.plot(history.history['val_loss'])\n",
    "plt.title('model loss')\n",
    "plt.ylabel('loss')\n",
    "plt.xlabel('epoch')\n",
    "plt.legend(['train', 'valid'], loc='upper right')\n",
    "plt.show()"
   ]
  },
  {
   "cell_type": "markdown",
   "metadata": {},
   "source": [
    "## Prediction on the test set\n"
   ]
  },
  {
   "cell_type": "code",
   "execution_count": 16,
   "metadata": {},
   "outputs": [
    {
     "name": "stdout",
     "output_type": "stream",
     "text": [
      "[[ 82   0   0   1   1   0   0   0   1   0]\n",
      " [  0  95   0   1   0   1   0   0  29   0]\n",
      " [  3   1   0  36   5   0   0   2  69   0]\n",
      " [  0   0   0  92   1   4   0   1   9   0]\n",
      " [  0   0   0   2 101   3   0   0   4   0]\n",
      " [  2   0   0   8   3  61   0   4   9   0]\n",
      " [ 15   0   0   0  45   7   0   0  20   0]\n",
      " [  1   0   0   8   2   0   0  82   6   0]\n",
      " [  0   0   0   4   3   0   0   3  79   0]\n",
      " [  0   0   0   6  19   1   0  40  28   0]]\n",
      "Acc =  0.592\n"
     ]
    }
   ],
   "source": [
    "pred=model.predict(X_test)\n",
    "print(confusion_matrix(Y_test,np.argmax(pred,axis=1)))\n",
    "print(\"Acc = \" ,np.sum(Y_test==np.argmax(pred,axis=1))/len(pred))"
   ]
  },
  {
   "cell_type": "code",
   "execution_count": 17,
   "metadata": {},
   "outputs": [],
   "source": [
    "del model"
   ]
  },
  {
   "cell_type": "markdown",
   "metadata": {},
   "source": [
    "## CNN with standardizing the data \n"
   ]
  },
  {
   "cell_type": "code",
   "execution_count": 18,
   "metadata": {},
   "outputs": [],
   "source": [
    "## here is the code to center and standardize the data\n",
    "X_mean = np.mean( X_train, axis = 0)\n",
    "X_std = np.std( X_train, axis = 0)\n",
    "\n",
    "X_train_norm = np.array((X_train - X_mean ) / (X_std + 0.0001),dtype=\"float32\")\n",
    "X_val_norm = np.array((X_val - X_mean ) / (X_std + 0.0001),dtype=\"float32\")"
   ]
  },
  {
   "cell_type": "code",
   "execution_count": 19,
   "metadata": {},
   "outputs": [],
   "source": [
    "### First model with a convolutional layer\n",
    "name = 'cnn1_norm'\n",
    "model = Sequential()\n",
    "\n",
    "model.add(Convolution2D(32, (3, 3), padding='same', input_shape=(28, 28, 1)))\n",
    "model.add(Activation('relu'))\n",
    "\n",
    "model.add(Flatten())\n",
    "\n",
    "model.add(Dense(10))\n",
    "model.add(Activation('softmax'))\n",
    "\n",
    "model.compile(loss='categorical_crossentropy',\n",
    "              optimizer='adam',\n",
    "              metrics=['accuracy'])"
   ]
  },
  {
   "cell_type": "code",
   "execution_count": 20,
   "metadata": {},
   "outputs": [
    {
     "data": {
      "image/svg+xml": [
       "<svg height=\"410pt\" viewBox=\"0.00 0.00 227.00 410.00\" width=\"227pt\" xmlns=\"http://www.w3.org/2000/svg\" xmlns:xlink=\"http://www.w3.org/1999/xlink\">\n",
       "<g class=\"graph\" id=\"graph0\" transform=\"scale(1 1) rotate(0) translate(4 406)\">\n",
       "<title>G</title>\n",
       "<polygon fill=\"white\" points=\"-4,4 -4,-406 223,-406 223,4 -4,4\" stroke=\"none\"/>\n",
       "<!-- 139757619664040 -->\n",
       "<g class=\"node\" id=\"node1\"><title>139757619664040</title>\n",
       "<polygon fill=\"none\" points=\"0,-365.5 0,-401.5 219,-401.5 219,-365.5 0,-365.5\" stroke=\"black\"/>\n",
       "<text font-family=\"Times,serif\" font-size=\"14.00\" text-anchor=\"middle\" x=\"109.5\" y=\"-379.8\">conv2d_2_input: InputLayer</text>\n",
       "</g>\n",
       "<!-- 139757834035040 -->\n",
       "<g class=\"node\" id=\"node2\"><title>139757834035040</title>\n",
       "<polygon fill=\"none\" points=\"34,-292.5 34,-328.5 185,-328.5 185,-292.5 34,-292.5\" stroke=\"black\"/>\n",
       "<text font-family=\"Times,serif\" font-size=\"14.00\" text-anchor=\"middle\" x=\"109.5\" y=\"-306.8\">conv2d_2: Conv2D</text>\n",
       "</g>\n",
       "<!-- 139757619664040&#45;&gt;139757834035040 -->\n",
       "<g class=\"edge\" id=\"edge1\"><title>139757619664040-&gt;139757834035040</title>\n",
       "<path d=\"M109.5,-365.313C109.5,-357.289 109.5,-347.547 109.5,-338.569\" fill=\"none\" stroke=\"black\"/>\n",
       "<polygon fill=\"black\" points=\"113,-338.529 109.5,-328.529 106,-338.529 113,-338.529\" stroke=\"black\"/>\n",
       "</g>\n",
       "<!-- 139757619664264 -->\n",
       "<g class=\"node\" id=\"node3\"><title>139757619664264</title>\n",
       "<polygon fill=\"none\" points=\"16,-219.5 16,-255.5 203,-255.5 203,-219.5 16,-219.5\" stroke=\"black\"/>\n",
       "<text font-family=\"Times,serif\" font-size=\"14.00\" text-anchor=\"middle\" x=\"109.5\" y=\"-233.8\">activation_3: Activation</text>\n",
       "</g>\n",
       "<!-- 139757834035040&#45;&gt;139757619664264 -->\n",
       "<g class=\"edge\" id=\"edge2\"><title>139757834035040-&gt;139757619664264</title>\n",
       "<path d=\"M109.5,-292.313C109.5,-284.289 109.5,-274.547 109.5,-265.569\" fill=\"none\" stroke=\"black\"/>\n",
       "<polygon fill=\"black\" points=\"113,-265.529 109.5,-255.529 106,-265.529 113,-265.529\" stroke=\"black\"/>\n",
       "</g>\n",
       "<!-- 139757619663312 -->\n",
       "<g class=\"node\" id=\"node4\"><title>139757619663312</title>\n",
       "<polygon fill=\"none\" points=\"39.5,-146.5 39.5,-182.5 179.5,-182.5 179.5,-146.5 39.5,-146.5\" stroke=\"black\"/>\n",
       "<text font-family=\"Times,serif\" font-size=\"14.00\" text-anchor=\"middle\" x=\"109.5\" y=\"-160.8\">flatten_2: Flatten</text>\n",
       "</g>\n",
       "<!-- 139757619664264&#45;&gt;139757619663312 -->\n",
       "<g class=\"edge\" id=\"edge3\"><title>139757619664264-&gt;139757619663312</title>\n",
       "<path d=\"M109.5,-219.313C109.5,-211.289 109.5,-201.547 109.5,-192.569\" fill=\"none\" stroke=\"black\"/>\n",
       "<polygon fill=\"black\" points=\"113,-192.529 109.5,-182.529 106,-192.529 113,-192.529\" stroke=\"black\"/>\n",
       "</g>\n",
       "<!-- 139757619664712 -->\n",
       "<g class=\"node\" id=\"node5\"><title>139757619664712</title>\n",
       "<polygon fill=\"none\" points=\"45.5,-73.5 45.5,-109.5 173.5,-109.5 173.5,-73.5 45.5,-73.5\" stroke=\"black\"/>\n",
       "<text font-family=\"Times,serif\" font-size=\"14.00\" text-anchor=\"middle\" x=\"109.5\" y=\"-87.8\">dense_2: Dense</text>\n",
       "</g>\n",
       "<!-- 139757619663312&#45;&gt;139757619664712 -->\n",
       "<g class=\"edge\" id=\"edge4\"><title>139757619663312-&gt;139757619664712</title>\n",
       "<path d=\"M109.5,-146.313C109.5,-138.289 109.5,-128.547 109.5,-119.569\" fill=\"none\" stroke=\"black\"/>\n",
       "<polygon fill=\"black\" points=\"113,-119.529 109.5,-109.529 106,-119.529 113,-119.529\" stroke=\"black\"/>\n",
       "</g>\n",
       "<!-- 139757611007112 -->\n",
       "<g class=\"node\" id=\"node6\"><title>139757611007112</title>\n",
       "<polygon fill=\"none\" points=\"16,-0.5 16,-36.5 203,-36.5 203,-0.5 16,-0.5\" stroke=\"black\"/>\n",
       "<text font-family=\"Times,serif\" font-size=\"14.00\" text-anchor=\"middle\" x=\"109.5\" y=\"-14.8\">activation_4: Activation</text>\n",
       "</g>\n",
       "<!-- 139757619664712&#45;&gt;139757611007112 -->\n",
       "<g class=\"edge\" id=\"edge5\"><title>139757619664712-&gt;139757611007112</title>\n",
       "<path d=\"M109.5,-73.3129C109.5,-65.2895 109.5,-55.5475 109.5,-46.5691\" fill=\"none\" stroke=\"black\"/>\n",
       "<polygon fill=\"black\" points=\"113,-46.5288 109.5,-36.5288 106,-46.5289 113,-46.5288\" stroke=\"black\"/>\n",
       "</g>\n",
       "</g>\n",
       "</svg>"
      ],
      "text/plain": [
       "<IPython.core.display.SVG object>"
      ]
     },
     "execution_count": 20,
     "metadata": {},
     "output_type": "execute_result"
    }
   ],
   "source": [
    "SVG(model_to_dot(model).create(prog='dot', format='svg'))"
   ]
  },
  {
   "cell_type": "code",
   "execution_count": 21,
   "metadata": {},
   "outputs": [
    {
     "name": "stdout",
     "output_type": "stream",
     "text": [
      "2400/2400 [==============================] - 1s 413us/step\n"
     ]
    },
    {
     "data": {
      "text/plain": [
       "[2.315552193323771, 0.09166666666666666]"
      ]
     },
     "execution_count": 21,
     "metadata": {},
     "output_type": "execute_result"
    }
   ],
   "source": [
    "model.evaluate(X_train_norm,Y_train)"
   ]
  },
  {
   "cell_type": "code",
   "execution_count": 22,
   "metadata": {},
   "outputs": [],
   "source": [
    "tensorboard = keras.callbacks.TensorBoard(\n",
    "        log_dir='tensorboard/mnist/' + name + '/', \n",
    "        write_graph=True,\n",
    "        histogram_freq=0)"
   ]
  },
  {
   "cell_type": "code",
   "execution_count": 23,
   "metadata": {},
   "outputs": [
    {
     "name": "stdout",
     "output_type": "stream",
     "text": [
      "Train on 2400 samples, validate on 600 samples\n",
      "Epoch 1/30\n",
      " - 3s - loss: 0.8409 - acc: 0.7571 - val_loss: 0.5348 - val_acc: 0.8683\n",
      "Epoch 2/30\n",
      " - 2s - loss: 0.2903 - acc: 0.9104 - val_loss: 0.5464 - val_acc: 0.8767\n",
      "Epoch 3/30\n",
      " - 3s - loss: 0.2004 - acc: 0.9437 - val_loss: 0.4696 - val_acc: 0.9033\n",
      "Epoch 4/30\n",
      " - 2s - loss: 0.1339 - acc: 0.9642 - val_loss: 0.4615 - val_acc: 0.9100\n",
      "Epoch 5/30\n",
      " - 2s - loss: 0.1037 - acc: 0.9746 - val_loss: 0.4526 - val_acc: 0.9217\n",
      "Epoch 6/30\n",
      " - 2s - loss: 0.0718 - acc: 0.9850 - val_loss: 0.4328 - val_acc: 0.9183\n",
      "Epoch 7/30\n",
      " - 2s - loss: 0.0518 - acc: 0.9908 - val_loss: 0.4393 - val_acc: 0.9200\n",
      "Epoch 8/30\n",
      " - 2s - loss: 0.0398 - acc: 0.9950 - val_loss: 0.4413 - val_acc: 0.9250\n",
      "Epoch 9/30\n",
      " - 2s - loss: 0.0304 - acc: 0.9963 - val_loss: 0.4386 - val_acc: 0.9217\n",
      "Epoch 10/30\n",
      " - 2s - loss: 0.0210 - acc: 0.9996 - val_loss: 0.4379 - val_acc: 0.9217\n",
      "Epoch 11/30\n",
      " - 2s - loss: 0.0167 - acc: 0.9996 - val_loss: 0.4436 - val_acc: 0.9233\n",
      "Epoch 12/30\n",
      " - 3s - loss: 0.0126 - acc: 0.9996 - val_loss: 0.4487 - val_acc: 0.9267\n",
      "Epoch 13/30\n",
      " - 2s - loss: 0.0103 - acc: 1.0000 - val_loss: 0.4523 - val_acc: 0.9250\n",
      "Epoch 14/30\n",
      " - 2s - loss: 0.0087 - acc: 1.0000 - val_loss: 0.4575 - val_acc: 0.9233\n",
      "Epoch 15/30\n",
      " - 2s - loss: 0.0074 - acc: 1.0000 - val_loss: 0.4584 - val_acc: 0.9233\n",
      "Epoch 16/30\n",
      " - 2s - loss: 0.0064 - acc: 1.0000 - val_loss: 0.4631 - val_acc: 0.9250\n",
      "Epoch 17/30\n",
      " - 2s - loss: 0.0056 - acc: 1.0000 - val_loss: 0.4621 - val_acc: 0.9250\n",
      "Epoch 18/30\n",
      " - 2s - loss: 0.0050 - acc: 1.0000 - val_loss: 0.4707 - val_acc: 0.9250\n",
      "Epoch 19/30\n",
      " - 2s - loss: 0.0044 - acc: 1.0000 - val_loss: 0.4668 - val_acc: 0.9267\n",
      "Epoch 20/30\n",
      " - 2s - loss: 0.0040 - acc: 1.0000 - val_loss: 0.4784 - val_acc: 0.9200\n",
      "Epoch 21/30\n",
      " - 2s - loss: 0.0036 - acc: 1.0000 - val_loss: 0.4800 - val_acc: 0.9233\n",
      "Epoch 22/30\n",
      " - 2s - loss: 0.0033 - acc: 1.0000 - val_loss: 0.4785 - val_acc: 0.9250\n",
      "Epoch 23/30\n",
      " - 2s - loss: 0.0030 - acc: 1.0000 - val_loss: 0.4844 - val_acc: 0.9250\n",
      "Epoch 24/30\n",
      " - 2s - loss: 0.0028 - acc: 1.0000 - val_loss: 0.4890 - val_acc: 0.9250\n",
      "Epoch 25/30\n",
      " - 2s - loss: 0.0026 - acc: 1.0000 - val_loss: 0.4878 - val_acc: 0.9233\n",
      "Epoch 26/30\n",
      " - 2s - loss: 0.0023 - acc: 1.0000 - val_loss: 0.4925 - val_acc: 0.9233\n",
      "Epoch 27/30\n",
      " - 2s - loss: 0.0021 - acc: 1.0000 - val_loss: 0.4936 - val_acc: 0.9250\n",
      "Epoch 28/30\n",
      " - 2s - loss: 0.0020 - acc: 1.0000 - val_loss: 0.4953 - val_acc: 0.9233\n",
      "Epoch 29/30\n",
      " - 2s - loss: 0.0018 - acc: 1.0000 - val_loss: 0.4983 - val_acc: 0.9233\n",
      "Epoch 30/30\n",
      " - 2s - loss: 0.0017 - acc: 1.0000 - val_loss: 0.5003 - val_acc: 0.9250\n"
     ]
    }
   ],
   "source": [
    "history=model.fit(X_train_norm, Y_train, \n",
    "                  batch_size=128, \n",
    "                  epochs=30,\n",
    "                  verbose=2, \n",
    "                  validation_data=(X_val_norm, Y_val),\n",
    "                  callbacks=[tensorboard])"
   ]
  },
  {
   "cell_type": "code",
   "execution_count": 24,
   "metadata": {},
   "outputs": [
    {
     "data": {
      "image/png": "[encoded data removed]",
      "text/plain": [
       "<matplotlib.figure.Figure at 0x7f1bd8467e80>"
      ]
     },
     "metadata": {},
     "output_type": "display_data"
    },
    {
     "data": {
      "image/png": "[encoded data removed]",
      "text/plain": [
       "<matplotlib.figure.Figure at 0x7f1bd8451320>"
      ]
     },
     "metadata": {},
     "output_type": "display_data"
    }
   ],
   "source": [
    "# summarize history for accuracy\n",
    "plt.plot(history.history['acc'])\n",
    "plt.plot(history.history['val_acc'])\n",
    "plt.title('model accuracy')\n",
    "plt.ylabel('accuracy')\n",
    "plt.xlabel('epoch')\n",
    "plt.legend(['train', 'valid'], loc='lower right')\n",
    "plt.show()\n",
    "plt.plot(history.history['loss'])\n",
    "plt.plot(history.history['val_loss'])\n",
    "plt.title('model loss')\n",
    "plt.ylabel('loss')\n",
    "plt.xlabel('epoch')\n",
    "plt.legend(['train', 'valid'], loc='upper right')\n",
    "plt.show()"
   ]
  },
  {
   "cell_type": "markdown",
   "metadata": {},
   "source": [
    "## Prediction on the normalized test set\n"
   ]
  },
  {
   "cell_type": "code",
   "execution_count": 25,
   "metadata": {},
   "outputs": [
    {
     "name": "stdout",
     "output_type": "stream",
     "text": [
      "[[ 83   0   1   0   0   0   1   0   0   0]\n",
      " [  0 124   0   1   0   0   1   0   0   0]\n",
      " [  1   2 102   2   0   0   0   3   4   2]\n",
      " [  1   2   1  90   0   7   1   2   1   2]\n",
      " [  1   1   0   0 101   0   1   0   0   6]\n",
      " [  1   0   1   1   3  76   1   1   1   2]\n",
      " [  2   0   1   0   2   3  79   0   0   0]\n",
      " [  0   2   2   2   0   1   0  89   0   3]\n",
      " [  2   0   2   2   4   0   0   2  77   0]\n",
      " [  0   0   1   1   0   0   0   3   0  89]]\n",
      "Acc =  0.91\n"
     ]
    }
   ],
   "source": [
    "X_test_norm = np.array((X_test - X_mean ) / (X_std + 0.0001),dtype=\"float32\")\n",
    "pred=model.predict(X_test_norm)\n",
    "print(confusion_matrix(Y_test,np.argmax(pred,axis=1)))\n",
    "print(\"Acc = \" ,np.sum(Y_test==np.argmax(pred,axis=1))/len(pred))"
   ]
  },
  {
   "cell_type": "code",
   "execution_count": 26,
   "metadata": {},
   "outputs": [],
   "source": [
    "#!tensorboard --logdir=tensorboard/tensorboard/mnist/"
   ]
  },
  {
   "cell_type": "code",
   "execution_count": null,
   "metadata": {},
   "outputs": [],
   "source": []
  }
 ],
 "metadata": {
  "kernelspec": {
   "display_name": "Python 3",
   "language": "python",
   "name": "python3"
  },
  "language_info": {
   "codemirror_mode": {
    "name": "ipython",
    "version": 3
   },
   "file_extension": ".py",
   "mimetype": "text/x-python",
   "name": "python",
   "nbconvert_exporter": "python",
   "pygments_lexer": "ipython3",
   "version": "3.5.2"
  }
 },
 "nbformat": 4,
 "nbformat_minor": 1
}
