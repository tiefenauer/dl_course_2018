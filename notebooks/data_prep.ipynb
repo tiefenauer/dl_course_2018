{
 "cells": [
  {
   "cell_type": "markdown",
   "metadata": {},
   "source": [
    "# Prepare hdf5 file starting from images stored in different directories "
   ]
  },
  {
   "cell_type": "markdown",
   "metadata": {},
   "source": [
    "This is an example of creating a hdf5 file which we took from a real application, meaning it might be more complicated then what you require in a more simple situation.\n",
    "\n",
    "Here we have images corresponding to two classes: Class 0: Adeno, Class 1: Squamous.\n",
    "Moreover we have 50 images per patient and each patient corresponds to one of these two labels.\n",
    "\n",
    "In this example we have our images in 3 directories: CD1, CD2, training-pa129-188-8x.\n",
    "In each of these directories we have several subdirectorise and the name of the subdirectory contains the class label, meaning we can use the sub-dir-name to extract the label. Moreover the name of the subdirectory contains also the patient number (pat_nr), which we also extract. Within each sub-dir we have the corresponding 50 images which have all the same label. \n",
    "\n",
    "Based on this information we create a pandas data frame with the following columns: path, pat_nr, label, Klasse (see below).\n",
    "\n",
    "We then want to split the images of the patients in 2 sets - train and validation. Images from the same patient should be only in one of the two sets. Maybe you want to create 3 sets: train, validation, test.\n",
    "We use the pat_nr-indices to split the data frame in 2 parts - train and validation - from which we get the path-info of the images and the corresponding labels. For train and validation seperately we read-in and resize all images and create an array. For train and validation seperately we create an array containing the corresoponding label-number (Klasse either 0 for adeno or 1 for squamous). For train and validation seperately, we then save the corresponding arrays in a train.hdf5 and val.hdf5 file.\n"
   ]
  },
  {
   "cell_type": "code",
   "execution_count": 1,
   "metadata": {},
   "outputs": [],
   "source": [
    "%matplotlib inline\n",
    "from PIL import Image\n",
    "import matplotlib.pyplot as plt\n",
    "import numpy as np\n",
    "from scipy import misc\n",
    "import pandas as pd\n",
    "import random\n",
    "import glob\n",
    "import os"
   ]
  },
  {
   "cell_type": "code",
   "execution_count": 2,
   "metadata": {},
   "outputs": [],
   "source": [
    "import re\n",
    "def natural_key(string_):\n",
    "    \"\"\"See http://www.codinghorror.com/blog/archives/001018.html\"\"\"\n",
    "    return [int(s) if s.isdigit() else s for s in re.split(r'(\\d+)', string_)]"
   ]
  },
  {
   "cell_type": "markdown",
   "metadata": {},
   "source": [
    "### First get all folders and then all paths of the images, form that extract the pat_nr and the label"
   ]
  },
  {
   "cell_type": "code",
   "execution_count": 3,
   "metadata": {},
   "outputs": [
    {
     "name": "stdout",
     "output_type": "stream",
     "text": [
      "/notebooks/local/Patho_Poster_DLD_2017/CD1/adeno-pa1\n",
      "/notebooks/local/Patho_Poster_DLD_2017/CD2/sqcc-pa41\n",
      "/notebooks/local/Patho_Poster_DLD_2017/training-pa129-188-8x/pa129-adeno\n"
     ]
    }
   ],
   "source": [
    "#List all folders in path and sort them\n",
    "Ordner1=np.asarray(sorted(glob.glob(\"/notebooks/local/Patho_Poster_DLD_2017/CD1/*\"), key=natural_key))\n",
    "print(Ordner1[0])\n",
    "\n",
    "Ordner2=np.asarray(sorted(glob.glob(\"/notebooks/local/Patho_Poster_DLD_2017/CD2/*\"), key=natural_key))\n",
    "print(Ordner2[0])\n",
    "\n",
    "Ordner3=np.asarray(sorted(glob.glob(\"/notebooks/local/Patho_Poster_DLD_2017/training-pa129-188-8x/*\"), key=natural_key))\n",
    "print(Ordner3[0])"
   ]
  },
  {
   "cell_type": "code",
   "execution_count": 4,
   "metadata": {},
   "outputs": [],
   "source": [
    "Ordner=np.hstack((Ordner1,Ordner2,Ordner3))"
   ]
  },
  {
   "cell_type": "code",
   "execution_count": 5,
   "metadata": {},
   "outputs": [
    {
     "name": "stdout",
     "output_type": "stream",
     "text": [
      "['/notebooks/local/Patho_Poster_DLD_2017/CD1/adeno-pa1'\n",
      " '/notebooks/local/Patho_Poster_DLD_2017/CD1/adeno-pa2'\n",
      " '/notebooks/local/Patho_Poster_DLD_2017/CD1/adeno-pa3'\n",
      " '/notebooks/local/Patho_Poster_DLD_2017/CD1/adeno-pa4'\n",
      " '/notebooks/local/Patho_Poster_DLD_2017/CD1/adeno-pa5']\n",
      "['/notebooks/local/Patho_Poster_DLD_2017/training-pa129-188-8x/pa184-adeno'\n",
      " '/notebooks/local/Patho_Poster_DLD_2017/training-pa129-188-8x/pa185-adeno'\n",
      " '/notebooks/local/Patho_Poster_DLD_2017/training-pa129-188-8x/pa186-adeno'\n",
      " '/notebooks/local/Patho_Poster_DLD_2017/training-pa129-188-8x/pa187-adeno'\n",
      " '/notebooks/local/Patho_Poster_DLD_2017/training-pa129-188-8x/pa188-sqcc']\n"
     ]
    }
   ],
   "source": [
    "print(Ordner[0:5])\n",
    "print(Ordner[len(Ordner)-5:len(Ordner)])"
   ]
  },
  {
   "cell_type": "code",
   "execution_count": 6,
   "metadata": {},
   "outputs": [],
   "source": [
    "Pfade=np.empty(0)\n",
    "for i in range(0,len(Ordner)):\n",
    "    Pfade = np.append(Pfade,(sorted(glob.glob(Ordner[i]+\"/*tif\"), key=natural_key)))"
   ]
  },
  {
   "cell_type": "code",
   "execution_count": 7,
   "metadata": {},
   "outputs": [
    {
     "name": "stdout",
     "output_type": "stream",
     "text": [
      "['/notebooks/local/Patho_Poster_DLD_2017/CD1/adeno-pa1/adeno-pa1-im1.tif'\n",
      " '/notebooks/local/Patho_Poster_DLD_2017/CD1/adeno-pa1/adeno-pa1-im2.tif'\n",
      " '/notebooks/local/Patho_Poster_DLD_2017/CD1/adeno-pa1/adeno-pa1-im3.tif'\n",
      " '/notebooks/local/Patho_Poster_DLD_2017/CD1/adeno-pa1/adeno-pa1-im4.tif'\n",
      " '/notebooks/local/Patho_Poster_DLD_2017/CD1/adeno-pa1/adeno-pa1-im5.tif']\n",
      "['/notebooks/local/Patho_Poster_DLD_2017/training-pa129-188-8x/pa188-sqcc/sqcc-pa188-im46.tif'\n",
      " '/notebooks/local/Patho_Poster_DLD_2017/training-pa129-188-8x/pa188-sqcc/sqcc-pa188-im47.tif'\n",
      " '/notebooks/local/Patho_Poster_DLD_2017/training-pa129-188-8x/pa188-sqcc/sqcc-pa188-im48.tif'\n",
      " '/notebooks/local/Patho_Poster_DLD_2017/training-pa129-188-8x/pa188-sqcc/sqcc-pa188-im49.tif'\n",
      " '/notebooks/local/Patho_Poster_DLD_2017/training-pa129-188-8x/pa188-sqcc/sqcc-pa188-im50.tif']\n"
     ]
    }
   ],
   "source": [
    "print(Pfade[0:5])\n",
    "print(Pfade[len(Pfade)-5:len(Pfade)])"
   ]
  },
  {
   "cell_type": "code",
   "execution_count": 8,
   "metadata": {},
   "outputs": [
    {
     "data": {
      "text/plain": [
       "(6950,)"
      ]
     },
     "execution_count": 8,
     "metadata": {},
     "output_type": "execute_result"
    }
   ],
   "source": [
    "Pfade.shape"
   ]
  },
  {
   "cell_type": "code",
   "execution_count": 9,
   "metadata": {
    "scrolled": true
   },
   "outputs": [
    {
     "name": "stdout",
     "output_type": "stream",
     "text": [
      "adeno-pa1\n",
      "sqcc-pa80\n",
      "pa129-adeno\n"
     ]
    }
   ],
   "source": [
    "print(Pfade[0].split(\"/\")[5])\n",
    "print(Pfade[3999].split(\"/\")[5])\n",
    "print(Pfade[4001].split(\"/\")[5])"
   ]
  },
  {
   "cell_type": "markdown",
   "metadata": {},
   "source": [
    "### extracting labels"
   ]
  },
  {
   "cell_type": "code",
   "execution_count": 10,
   "metadata": {},
   "outputs": [],
   "source": [
    "test=np.empty(len(Pfade),dtype=\"U30\")\n",
    "for i in range(0,len(Pfade)):\n",
    "    test[i]=Pfade[i].split(\"/\")[5]"
   ]
  },
  {
   "cell_type": "code",
   "execution_count": 11,
   "metadata": {},
   "outputs": [
    {
     "data": {
      "text/plain": [
       "array(['adeno-pa1', 'adeno-pa1', 'adeno-pa1', ..., 'pa188-sqcc',\n",
       "       'pa188-sqcc', 'pa188-sqcc'], dtype='<U30')"
      ]
     },
     "execution_count": 11,
     "metadata": {},
     "output_type": "execute_result"
    }
   ],
   "source": [
    "test"
   ]
  },
  {
   "cell_type": "code",
   "execution_count": 12,
   "metadata": {},
   "outputs": [],
   "source": [
    "label= np.empty(len(test),\"U30\")\n",
    "for i in range(0,len(test)):\n",
    "    if test[i].split(\"-\")[0]==\"adeno\" or test[i].split(\"-\")[1]==\"adeno\":\n",
    "          label[i]=\"adeno\"\n",
    "    if test[i].split(\"-\")[0]==\"sqcc\" or test[i].split(\"-\")[1]==\"sqcc\" :\n",
    "              label[i]=\"sqcc\""
   ]
  },
  {
   "cell_type": "code",
   "execution_count": 13,
   "metadata": {},
   "outputs": [
    {
     "data": {
      "text/plain": [
       "array(['adeno', 'adeno', 'adeno', ..., 'sqcc', 'sqcc', 'sqcc'],\n",
       "      dtype='<U30')"
      ]
     },
     "execution_count": 13,
     "metadata": {},
     "output_type": "execute_result"
    }
   ],
   "source": [
    "label"
   ]
  },
  {
   "cell_type": "code",
   "execution_count": 14,
   "metadata": {},
   "outputs": [
    {
     "data": {
      "text/plain": [
       "(array(['adeno', 'sqcc'], dtype='<U30'), array([3800, 3150]))"
      ]
     },
     "execution_count": 14,
     "metadata": {},
     "output_type": "execute_result"
    }
   ],
   "source": [
    "np.unique(label,return_counts=True)"
   ]
  },
  {
   "cell_type": "markdown",
   "metadata": {},
   "source": [
    "### extracting pat_nr"
   ]
  },
  {
   "cell_type": "code",
   "execution_count": 15,
   "metadata": {},
   "outputs": [],
   "source": [
    "Pat_nr=[re.sub(\"pa\",repl=\"\",string=test[idx]) for idx in range(0,len(test))]\n",
    "Pat_nr=[re.sub(\"adeno\",repl=\"\",string=Pat_nr[idx]) for idx in range(0,len(test))]\n",
    "Pat_nr=[re.sub(\"sqcc\",repl=\"\",string=Pat_nr[idx]) for idx in range(0,len(test))]\n",
    "Pat_nr=[re.sub(\"-\",repl=\"\",string=Pat_nr[idx]) for idx in range(0,len(test))]"
   ]
  },
  {
   "cell_type": "code",
   "execution_count": 16,
   "metadata": {},
   "outputs": [
    {
     "name": "stdout",
     "output_type": "stream",
     "text": [
      "[1 1 1 1 1]\n",
      "[188 188 188 188 188]\n"
     ]
    }
   ],
   "source": [
    "Pat_nr=np.array(Pat_nr,dtype=\"uint16\")\n",
    "print(Pat_nr[0:5])\n",
    "print(Pat_nr[len(Pfade)-5:len(Pat_nr)])"
   ]
  },
  {
   "cell_type": "markdown",
   "metadata": {},
   "source": [
    "### extracting label as number"
   ]
  },
  {
   "cell_type": "code",
   "execution_count": 17,
   "metadata": {},
   "outputs": [],
   "source": [
    "Klasse=np.asarray(label==\"sqcc\",dtype=\"uint8\")"
   ]
  },
  {
   "cell_type": "markdown",
   "metadata": {},
   "source": [
    "### putting all together"
   ]
  },
  {
   "cell_type": "code",
   "execution_count": 18,
   "metadata": {},
   "outputs": [
    {
     "data": {
      "text/plain": [
       "(6950, 4)"
      ]
     },
     "execution_count": 18,
     "metadata": {},
     "output_type": "execute_result"
    }
   ],
   "source": [
    "np.shape(np.column_stack((Pfade,Pat_nr,label,Klasse)))"
   ]
  },
  {
   "cell_type": "code",
   "execution_count": 19,
   "metadata": {},
   "outputs": [],
   "source": [
    "import pandas"
   ]
  },
  {
   "cell_type": "code",
   "execution_count": 20,
   "metadata": {},
   "outputs": [],
   "source": [
    "Patho_data=pandas.DataFrame(data=np.column_stack((Pfade,Pat_nr,label,Klasse)),columns=[\"Pfad\",\"Pat_nr\",\"label\",\"Klasse\"])"
   ]
  },
  {
   "cell_type": "code",
   "execution_count": 21,
   "metadata": {},
   "outputs": [
    {
     "data": {
      "text/html": [
       "<div>\n",
       "<style scoped>\n",
       "    .dataframe tbody tr th:only-of-type {\n",
       "        vertical-align: middle;\n",
       "    }\n",
       "\n",
       "    .dataframe tbody tr th {\n",
       "        vertical-align: top;\n",
       "    }\n",
       "\n",
       "    .dataframe thead th {\n",
       "        text-align: right;\n",
       "    }\n",
       "</style>\n",
       "<table border=\"1\" class=\"dataframe\">\n",
       "  <thead>\n",
       "    <tr style=\"text-align: right;\">\n",
       "      <th></th>\n",
       "      <th>Pfad</th>\n",
       "      <th>Pat_nr</th>\n",
       "      <th>label</th>\n",
       "      <th>Klasse</th>\n",
       "    </tr>\n",
       "  </thead>\n",
       "  <tbody>\n",
       "    <tr>\n",
       "      <th>0</th>\n",
       "      <td>/notebooks/local/Patho_Poster_DLD_2017/CD1/ade...</td>\n",
       "      <td>1</td>\n",
       "      <td>adeno</td>\n",
       "      <td>0</td>\n",
       "    </tr>\n",
       "    <tr>\n",
       "      <th>1</th>\n",
       "      <td>/notebooks/local/Patho_Poster_DLD_2017/CD1/ade...</td>\n",
       "      <td>1</td>\n",
       "      <td>adeno</td>\n",
       "      <td>0</td>\n",
       "    </tr>\n",
       "    <tr>\n",
       "      <th>2</th>\n",
       "      <td>/notebooks/local/Patho_Poster_DLD_2017/CD1/ade...</td>\n",
       "      <td>1</td>\n",
       "      <td>adeno</td>\n",
       "      <td>0</td>\n",
       "    </tr>\n",
       "    <tr>\n",
       "      <th>3</th>\n",
       "      <td>/notebooks/local/Patho_Poster_DLD_2017/CD1/ade...</td>\n",
       "      <td>1</td>\n",
       "      <td>adeno</td>\n",
       "      <td>0</td>\n",
       "    </tr>\n",
       "    <tr>\n",
       "      <th>4</th>\n",
       "      <td>/notebooks/local/Patho_Poster_DLD_2017/CD1/ade...</td>\n",
       "      <td>1</td>\n",
       "      <td>adeno</td>\n",
       "      <td>0</td>\n",
       "    </tr>\n",
       "    <tr>\n",
       "      <th>5</th>\n",
       "      <td>/notebooks/local/Patho_Poster_DLD_2017/CD1/ade...</td>\n",
       "      <td>1</td>\n",
       "      <td>adeno</td>\n",
       "      <td>0</td>\n",
       "    </tr>\n",
       "    <tr>\n",
       "      <th>6</th>\n",
       "      <td>/notebooks/local/Patho_Poster_DLD_2017/CD1/ade...</td>\n",
       "      <td>1</td>\n",
       "      <td>adeno</td>\n",
       "      <td>0</td>\n",
       "    </tr>\n",
       "    <tr>\n",
       "      <th>7</th>\n",
       "      <td>/notebooks/local/Patho_Poster_DLD_2017/CD1/ade...</td>\n",
       "      <td>1</td>\n",
       "      <td>adeno</td>\n",
       "      <td>0</td>\n",
       "    </tr>\n",
       "    <tr>\n",
       "      <th>8</th>\n",
       "      <td>/notebooks/local/Patho_Poster_DLD_2017/CD1/ade...</td>\n",
       "      <td>1</td>\n",
       "      <td>adeno</td>\n",
       "      <td>0</td>\n",
       "    </tr>\n",
       "    <tr>\n",
       "      <th>9</th>\n",
       "      <td>/notebooks/local/Patho_Poster_DLD_2017/CD1/ade...</td>\n",
       "      <td>1</td>\n",
       "      <td>adeno</td>\n",
       "      <td>0</td>\n",
       "    </tr>\n",
       "    <tr>\n",
       "      <th>10</th>\n",
       "      <td>/notebooks/local/Patho_Poster_DLD_2017/CD1/ade...</td>\n",
       "      <td>1</td>\n",
       "      <td>adeno</td>\n",
       "      <td>0</td>\n",
       "    </tr>\n",
       "    <tr>\n",
       "      <th>11</th>\n",
       "      <td>/notebooks/local/Patho_Poster_DLD_2017/CD1/ade...</td>\n",
       "      <td>1</td>\n",
       "      <td>adeno</td>\n",
       "      <td>0</td>\n",
       "    </tr>\n",
       "    <tr>\n",
       "      <th>12</th>\n",
       "      <td>/notebooks/local/Patho_Poster_DLD_2017/CD1/ade...</td>\n",
       "      <td>1</td>\n",
       "      <td>adeno</td>\n",
       "      <td>0</td>\n",
       "    </tr>\n",
       "    <tr>\n",
       "      <th>13</th>\n",
       "      <td>/notebooks/local/Patho_Poster_DLD_2017/CD1/ade...</td>\n",
       "      <td>1</td>\n",
       "      <td>adeno</td>\n",
       "      <td>0</td>\n",
       "    </tr>\n",
       "    <tr>\n",
       "      <th>14</th>\n",
       "      <td>/notebooks/local/Patho_Poster_DLD_2017/CD1/ade...</td>\n",
       "      <td>1</td>\n",
       "      <td>adeno</td>\n",
       "      <td>0</td>\n",
       "    </tr>\n",
       "    <tr>\n",
       "      <th>15</th>\n",
       "      <td>/notebooks/local/Patho_Poster_DLD_2017/CD1/ade...</td>\n",
       "      <td>1</td>\n",
       "      <td>adeno</td>\n",
       "      <td>0</td>\n",
       "    </tr>\n",
       "    <tr>\n",
       "      <th>16</th>\n",
       "      <td>/notebooks/local/Patho_Poster_DLD_2017/CD1/ade...</td>\n",
       "      <td>1</td>\n",
       "      <td>adeno</td>\n",
       "      <td>0</td>\n",
       "    </tr>\n",
       "    <tr>\n",
       "      <th>17</th>\n",
       "      <td>/notebooks/local/Patho_Poster_DLD_2017/CD1/ade...</td>\n",
       "      <td>1</td>\n",
       "      <td>adeno</td>\n",
       "      <td>0</td>\n",
       "    </tr>\n",
       "    <tr>\n",
       "      <th>18</th>\n",
       "      <td>/notebooks/local/Patho_Poster_DLD_2017/CD1/ade...</td>\n",
       "      <td>1</td>\n",
       "      <td>adeno</td>\n",
       "      <td>0</td>\n",
       "    </tr>\n",
       "    <tr>\n",
       "      <th>19</th>\n",
       "      <td>/notebooks/local/Patho_Poster_DLD_2017/CD1/ade...</td>\n",
       "      <td>1</td>\n",
       "      <td>adeno</td>\n",
       "      <td>0</td>\n",
       "    </tr>\n",
       "    <tr>\n",
       "      <th>20</th>\n",
       "      <td>/notebooks/local/Patho_Poster_DLD_2017/CD1/ade...</td>\n",
       "      <td>1</td>\n",
       "      <td>adeno</td>\n",
       "      <td>0</td>\n",
       "    </tr>\n",
       "    <tr>\n",
       "      <th>21</th>\n",
       "      <td>/notebooks/local/Patho_Poster_DLD_2017/CD1/ade...</td>\n",
       "      <td>1</td>\n",
       "      <td>adeno</td>\n",
       "      <td>0</td>\n",
       "    </tr>\n",
       "    <tr>\n",
       "      <th>22</th>\n",
       "      <td>/notebooks/local/Patho_Poster_DLD_2017/CD1/ade...</td>\n",
       "      <td>1</td>\n",
       "      <td>adeno</td>\n",
       "      <td>0</td>\n",
       "    </tr>\n",
       "    <tr>\n",
       "      <th>23</th>\n",
       "      <td>/notebooks/local/Patho_Poster_DLD_2017/CD1/ade...</td>\n",
       "      <td>1</td>\n",
       "      <td>adeno</td>\n",
       "      <td>0</td>\n",
       "    </tr>\n",
       "    <tr>\n",
       "      <th>24</th>\n",
       "      <td>/notebooks/local/Patho_Poster_DLD_2017/CD1/ade...</td>\n",
       "      <td>1</td>\n",
       "      <td>adeno</td>\n",
       "      <td>0</td>\n",
       "    </tr>\n",
       "    <tr>\n",
       "      <th>25</th>\n",
       "      <td>/notebooks/local/Patho_Poster_DLD_2017/CD1/ade...</td>\n",
       "      <td>1</td>\n",
       "      <td>adeno</td>\n",
       "      <td>0</td>\n",
       "    </tr>\n",
       "    <tr>\n",
       "      <th>26</th>\n",
       "      <td>/notebooks/local/Patho_Poster_DLD_2017/CD1/ade...</td>\n",
       "      <td>1</td>\n",
       "      <td>adeno</td>\n",
       "      <td>0</td>\n",
       "    </tr>\n",
       "    <tr>\n",
       "      <th>27</th>\n",
       "      <td>/notebooks/local/Patho_Poster_DLD_2017/CD1/ade...</td>\n",
       "      <td>1</td>\n",
       "      <td>adeno</td>\n",
       "      <td>0</td>\n",
       "    </tr>\n",
       "    <tr>\n",
       "      <th>28</th>\n",
       "      <td>/notebooks/local/Patho_Poster_DLD_2017/CD1/ade...</td>\n",
       "      <td>1</td>\n",
       "      <td>adeno</td>\n",
       "      <td>0</td>\n",
       "    </tr>\n",
       "    <tr>\n",
       "      <th>29</th>\n",
       "      <td>/notebooks/local/Patho_Poster_DLD_2017/CD1/ade...</td>\n",
       "      <td>1</td>\n",
       "      <td>adeno</td>\n",
       "      <td>0</td>\n",
       "    </tr>\n",
       "    <tr>\n",
       "      <th>...</th>\n",
       "      <td>...</td>\n",
       "      <td>...</td>\n",
       "      <td>...</td>\n",
       "      <td>...</td>\n",
       "    </tr>\n",
       "    <tr>\n",
       "      <th>6920</th>\n",
       "      <td>/notebooks/local/Patho_Poster_DLD_2017/trainin...</td>\n",
       "      <td>188</td>\n",
       "      <td>sqcc</td>\n",
       "      <td>1</td>\n",
       "    </tr>\n",
       "    <tr>\n",
       "      <th>6921</th>\n",
       "      <td>/notebooks/local/Patho_Poster_DLD_2017/trainin...</td>\n",
       "      <td>188</td>\n",
       "      <td>sqcc</td>\n",
       "      <td>1</td>\n",
       "    </tr>\n",
       "    <tr>\n",
       "      <th>6922</th>\n",
       "      <td>/notebooks/local/Patho_Poster_DLD_2017/trainin...</td>\n",
       "      <td>188</td>\n",
       "      <td>sqcc</td>\n",
       "      <td>1</td>\n",
       "    </tr>\n",
       "    <tr>\n",
       "      <th>6923</th>\n",
       "      <td>/notebooks/local/Patho_Poster_DLD_2017/trainin...</td>\n",
       "      <td>188</td>\n",
       "      <td>sqcc</td>\n",
       "      <td>1</td>\n",
       "    </tr>\n",
       "    <tr>\n",
       "      <th>6924</th>\n",
       "      <td>/notebooks/local/Patho_Poster_DLD_2017/trainin...</td>\n",
       "      <td>188</td>\n",
       "      <td>sqcc</td>\n",
       "      <td>1</td>\n",
       "    </tr>\n",
       "    <tr>\n",
       "      <th>6925</th>\n",
       "      <td>/notebooks/local/Patho_Poster_DLD_2017/trainin...</td>\n",
       "      <td>188</td>\n",
       "      <td>sqcc</td>\n",
       "      <td>1</td>\n",
       "    </tr>\n",
       "    <tr>\n",
       "      <th>6926</th>\n",
       "      <td>/notebooks/local/Patho_Poster_DLD_2017/trainin...</td>\n",
       "      <td>188</td>\n",
       "      <td>sqcc</td>\n",
       "      <td>1</td>\n",
       "    </tr>\n",
       "    <tr>\n",
       "      <th>6927</th>\n",
       "      <td>/notebooks/local/Patho_Poster_DLD_2017/trainin...</td>\n",
       "      <td>188</td>\n",
       "      <td>sqcc</td>\n",
       "      <td>1</td>\n",
       "    </tr>\n",
       "    <tr>\n",
       "      <th>6928</th>\n",
       "      <td>/notebooks/local/Patho_Poster_DLD_2017/trainin...</td>\n",
       "      <td>188</td>\n",
       "      <td>sqcc</td>\n",
       "      <td>1</td>\n",
       "    </tr>\n",
       "    <tr>\n",
       "      <th>6929</th>\n",
       "      <td>/notebooks/local/Patho_Poster_DLD_2017/trainin...</td>\n",
       "      <td>188</td>\n",
       "      <td>sqcc</td>\n",
       "      <td>1</td>\n",
       "    </tr>\n",
       "    <tr>\n",
       "      <th>6930</th>\n",
       "      <td>/notebooks/local/Patho_Poster_DLD_2017/trainin...</td>\n",
       "      <td>188</td>\n",
       "      <td>sqcc</td>\n",
       "      <td>1</td>\n",
       "    </tr>\n",
       "    <tr>\n",
       "      <th>6931</th>\n",
       "      <td>/notebooks/local/Patho_Poster_DLD_2017/trainin...</td>\n",
       "      <td>188</td>\n",
       "      <td>sqcc</td>\n",
       "      <td>1</td>\n",
       "    </tr>\n",
       "    <tr>\n",
       "      <th>6932</th>\n",
       "      <td>/notebooks/local/Patho_Poster_DLD_2017/trainin...</td>\n",
       "      <td>188</td>\n",
       "      <td>sqcc</td>\n",
       "      <td>1</td>\n",
       "    </tr>\n",
       "    <tr>\n",
       "      <th>6933</th>\n",
       "      <td>/notebooks/local/Patho_Poster_DLD_2017/trainin...</td>\n",
       "      <td>188</td>\n",
       "      <td>sqcc</td>\n",
       "      <td>1</td>\n",
       "    </tr>\n",
       "    <tr>\n",
       "      <th>6934</th>\n",
       "      <td>/notebooks/local/Patho_Poster_DLD_2017/trainin...</td>\n",
       "      <td>188</td>\n",
       "      <td>sqcc</td>\n",
       "      <td>1</td>\n",
       "    </tr>\n",
       "    <tr>\n",
       "      <th>6935</th>\n",
       "      <td>/notebooks/local/Patho_Poster_DLD_2017/trainin...</td>\n",
       "      <td>188</td>\n",
       "      <td>sqcc</td>\n",
       "      <td>1</td>\n",
       "    </tr>\n",
       "    <tr>\n",
       "      <th>6936</th>\n",
       "      <td>/notebooks/local/Patho_Poster_DLD_2017/trainin...</td>\n",
       "      <td>188</td>\n",
       "      <td>sqcc</td>\n",
       "      <td>1</td>\n",
       "    </tr>\n",
       "    <tr>\n",
       "      <th>6937</th>\n",
       "      <td>/notebooks/local/Patho_Poster_DLD_2017/trainin...</td>\n",
       "      <td>188</td>\n",
       "      <td>sqcc</td>\n",
       "      <td>1</td>\n",
       "    </tr>\n",
       "    <tr>\n",
       "      <th>6938</th>\n",
       "      <td>/notebooks/local/Patho_Poster_DLD_2017/trainin...</td>\n",
       "      <td>188</td>\n",
       "      <td>sqcc</td>\n",
       "      <td>1</td>\n",
       "    </tr>\n",
       "    <tr>\n",
       "      <th>6939</th>\n",
       "      <td>/notebooks/local/Patho_Poster_DLD_2017/trainin...</td>\n",
       "      <td>188</td>\n",
       "      <td>sqcc</td>\n",
       "      <td>1</td>\n",
       "    </tr>\n",
       "    <tr>\n",
       "      <th>6940</th>\n",
       "      <td>/notebooks/local/Patho_Poster_DLD_2017/trainin...</td>\n",
       "      <td>188</td>\n",
       "      <td>sqcc</td>\n",
       "      <td>1</td>\n",
       "    </tr>\n",
       "    <tr>\n",
       "      <th>6941</th>\n",
       "      <td>/notebooks/local/Patho_Poster_DLD_2017/trainin...</td>\n",
       "      <td>188</td>\n",
       "      <td>sqcc</td>\n",
       "      <td>1</td>\n",
       "    </tr>\n",
       "    <tr>\n",
       "      <th>6942</th>\n",
       "      <td>/notebooks/local/Patho_Poster_DLD_2017/trainin...</td>\n",
       "      <td>188</td>\n",
       "      <td>sqcc</td>\n",
       "      <td>1</td>\n",
       "    </tr>\n",
       "    <tr>\n",
       "      <th>6943</th>\n",
       "      <td>/notebooks/local/Patho_Poster_DLD_2017/trainin...</td>\n",
       "      <td>188</td>\n",
       "      <td>sqcc</td>\n",
       "      <td>1</td>\n",
       "    </tr>\n",
       "    <tr>\n",
       "      <th>6944</th>\n",
       "      <td>/notebooks/local/Patho_Poster_DLD_2017/trainin...</td>\n",
       "      <td>188</td>\n",
       "      <td>sqcc</td>\n",
       "      <td>1</td>\n",
       "    </tr>\n",
       "    <tr>\n",
       "      <th>6945</th>\n",
       "      <td>/notebooks/local/Patho_Poster_DLD_2017/trainin...</td>\n",
       "      <td>188</td>\n",
       "      <td>sqcc</td>\n",
       "      <td>1</td>\n",
       "    </tr>\n",
       "    <tr>\n",
       "      <th>6946</th>\n",
       "      <td>/notebooks/local/Patho_Poster_DLD_2017/trainin...</td>\n",
       "      <td>188</td>\n",
       "      <td>sqcc</td>\n",
       "      <td>1</td>\n",
       "    </tr>\n",
       "    <tr>\n",
       "      <th>6947</th>\n",
       "      <td>/notebooks/local/Patho_Poster_DLD_2017/trainin...</td>\n",
       "      <td>188</td>\n",
       "      <td>sqcc</td>\n",
       "      <td>1</td>\n",
       "    </tr>\n",
       "    <tr>\n",
       "      <th>6948</th>\n",
       "      <td>/notebooks/local/Patho_Poster_DLD_2017/trainin...</td>\n",
       "      <td>188</td>\n",
       "      <td>sqcc</td>\n",
       "      <td>1</td>\n",
       "    </tr>\n",
       "    <tr>\n",
       "      <th>6949</th>\n",
       "      <td>/notebooks/local/Patho_Poster_DLD_2017/trainin...</td>\n",
       "      <td>188</td>\n",
       "      <td>sqcc</td>\n",
       "      <td>1</td>\n",
       "    </tr>\n",
       "  </tbody>\n",
       "</table>\n",
       "<p>6950 rows × 4 columns</p>\n",
       "</div>"
      ],
      "text/plain": [
       "                                                   Pfad Pat_nr  label Klasse\n",
       "0     /notebooks/local/Patho_Poster_DLD_2017/CD1/ade...      1  adeno      0\n",
       "1     /notebooks/local/Patho_Poster_DLD_2017/CD1/ade...      1  adeno      0\n",
       "2     /notebooks/local/Patho_Poster_DLD_2017/CD1/ade...      1  adeno      0\n",
       "3     /notebooks/local/Patho_Poster_DLD_2017/CD1/ade...      1  adeno      0\n",
       "4     /notebooks/local/Patho_Poster_DLD_2017/CD1/ade...      1  adeno      0\n",
       "5     /notebooks/local/Patho_Poster_DLD_2017/CD1/ade...      1  adeno      0\n",
       "6     /notebooks/local/Patho_Poster_DLD_2017/CD1/ade...      1  adeno      0\n",
       "7     /notebooks/local/Patho_Poster_DLD_2017/CD1/ade...      1  adeno      0\n",
       "8     /notebooks/local/Patho_Poster_DLD_2017/CD1/ade...      1  adeno      0\n",
       "9     /notebooks/local/Patho_Poster_DLD_2017/CD1/ade...      1  adeno      0\n",
       "10    /notebooks/local/Patho_Poster_DLD_2017/CD1/ade...      1  adeno      0\n",
       "11    /notebooks/local/Patho_Poster_DLD_2017/CD1/ade...      1  adeno      0\n",
       "12    /notebooks/local/Patho_Poster_DLD_2017/CD1/ade...      1  adeno      0\n",
       "13    /notebooks/local/Patho_Poster_DLD_2017/CD1/ade...      1  adeno      0\n",
       "14    /notebooks/local/Patho_Poster_DLD_2017/CD1/ade...      1  adeno      0\n",
       "15    /notebooks/local/Patho_Poster_DLD_2017/CD1/ade...      1  adeno      0\n",
       "16    /notebooks/local/Patho_Poster_DLD_2017/CD1/ade...      1  adeno      0\n",
       "17    /notebooks/local/Patho_Poster_DLD_2017/CD1/ade...      1  adeno      0\n",
       "18    /notebooks/local/Patho_Poster_DLD_2017/CD1/ade...      1  adeno      0\n",
       "19    /notebooks/local/Patho_Poster_DLD_2017/CD1/ade...      1  adeno      0\n",
       "20    /notebooks/local/Patho_Poster_DLD_2017/CD1/ade...      1  adeno      0\n",
       "21    /notebooks/local/Patho_Poster_DLD_2017/CD1/ade...      1  adeno      0\n",
       "22    /notebooks/local/Patho_Poster_DLD_2017/CD1/ade...      1  adeno      0\n",
       "23    /notebooks/local/Patho_Poster_DLD_2017/CD1/ade...      1  adeno      0\n",
       "24    /notebooks/local/Patho_Poster_DLD_2017/CD1/ade...      1  adeno      0\n",
       "25    /notebooks/local/Patho_Poster_DLD_2017/CD1/ade...      1  adeno      0\n",
       "26    /notebooks/local/Patho_Poster_DLD_2017/CD1/ade...      1  adeno      0\n",
       "27    /notebooks/local/Patho_Poster_DLD_2017/CD1/ade...      1  adeno      0\n",
       "28    /notebooks/local/Patho_Poster_DLD_2017/CD1/ade...      1  adeno      0\n",
       "29    /notebooks/local/Patho_Poster_DLD_2017/CD1/ade...      1  adeno      0\n",
       "...                                                 ...    ...    ...    ...\n",
       "6920  /notebooks/local/Patho_Poster_DLD_2017/trainin...    188   sqcc      1\n",
       "6921  /notebooks/local/Patho_Poster_DLD_2017/trainin...    188   sqcc      1\n",
       "6922  /notebooks/local/Patho_Poster_DLD_2017/trainin...    188   sqcc      1\n",
       "6923  /notebooks/local/Patho_Poster_DLD_2017/trainin...    188   sqcc      1\n",
       "6924  /notebooks/local/Patho_Poster_DLD_2017/trainin...    188   sqcc      1\n",
       "6925  /notebooks/local/Patho_Poster_DLD_2017/trainin...    188   sqcc      1\n",
       "6926  /notebooks/local/Patho_Poster_DLD_2017/trainin...    188   sqcc      1\n",
       "6927  /notebooks/local/Patho_Poster_DLD_2017/trainin...    188   sqcc      1\n",
       "6928  /notebooks/local/Patho_Poster_DLD_2017/trainin...    188   sqcc      1\n",
       "6929  /notebooks/local/Patho_Poster_DLD_2017/trainin...    188   sqcc      1\n",
       "6930  /notebooks/local/Patho_Poster_DLD_2017/trainin...    188   sqcc      1\n",
       "6931  /notebooks/local/Patho_Poster_DLD_2017/trainin...    188   sqcc      1\n",
       "6932  /notebooks/local/Patho_Poster_DLD_2017/trainin...    188   sqcc      1\n",
       "6933  /notebooks/local/Patho_Poster_DLD_2017/trainin...    188   sqcc      1\n",
       "6934  /notebooks/local/Patho_Poster_DLD_2017/trainin...    188   sqcc      1\n",
       "6935  /notebooks/local/Patho_Poster_DLD_2017/trainin...    188   sqcc      1\n",
       "6936  /notebooks/local/Patho_Poster_DLD_2017/trainin...    188   sqcc      1\n",
       "6937  /notebooks/local/Patho_Poster_DLD_2017/trainin...    188   sqcc      1\n",
       "6938  /notebooks/local/Patho_Poster_DLD_2017/trainin...    188   sqcc      1\n",
       "6939  /notebooks/local/Patho_Poster_DLD_2017/trainin...    188   sqcc      1\n",
       "6940  /notebooks/local/Patho_Poster_DLD_2017/trainin...    188   sqcc      1\n",
       "6941  /notebooks/local/Patho_Poster_DLD_2017/trainin...    188   sqcc      1\n",
       "6942  /notebooks/local/Patho_Poster_DLD_2017/trainin...    188   sqcc      1\n",
       "6943  /notebooks/local/Patho_Poster_DLD_2017/trainin...    188   sqcc      1\n",
       "6944  /notebooks/local/Patho_Poster_DLD_2017/trainin...    188   sqcc      1\n",
       "6945  /notebooks/local/Patho_Poster_DLD_2017/trainin...    188   sqcc      1\n",
       "6946  /notebooks/local/Patho_Poster_DLD_2017/trainin...    188   sqcc      1\n",
       "6947  /notebooks/local/Patho_Poster_DLD_2017/trainin...    188   sqcc      1\n",
       "6948  /notebooks/local/Patho_Poster_DLD_2017/trainin...    188   sqcc      1\n",
       "6949  /notebooks/local/Patho_Poster_DLD_2017/trainin...    188   sqcc      1\n",
       "\n",
       "[6950 rows x 4 columns]"
      ]
     },
     "execution_count": 21,
     "metadata": {},
     "output_type": "execute_result"
    }
   ],
   "source": [
    "Patho_data"
   ]
  },
  {
   "cell_type": "code",
   "execution_count": 22,
   "metadata": {
    "scrolled": false
   },
   "outputs": [
    {
     "data": {
      "text/plain": [
       "array([[  1,  50],\n",
       "       [  2,  50],\n",
       "       [  3,  50],\n",
       "       [  4,  50],\n",
       "       [  5,  50],\n",
       "       [  6,  50],\n",
       "       [  7,  50],\n",
       "       [  8,  50],\n",
       "       [  9,  50],\n",
       "       [ 10,  50],\n",
       "       [ 11,  50],\n",
       "       [ 12,  50],\n",
       "       [ 13,  50],\n",
       "       [ 14,  50],\n",
       "       [ 15,  50],\n",
       "       [ 16,  50],\n",
       "       [ 17,  50],\n",
       "       [ 18,  50],\n",
       "       [ 19,  50],\n",
       "       [ 20,  50],\n",
       "       [ 21,  50],\n",
       "       [ 22,  50],\n",
       "       [ 23,  50],\n",
       "       [ 24,  50],\n",
       "       [ 25,  50],\n",
       "       [ 26,  50],\n",
       "       [ 27,  50],\n",
       "       [ 28,  50],\n",
       "       [ 29,  50],\n",
       "       [ 30,  50],\n",
       "       [ 31,  50],\n",
       "       [ 32,  50],\n",
       "       [ 33,  50],\n",
       "       [ 34,  50],\n",
       "       [ 35,  50],\n",
       "       [ 36,  50],\n",
       "       [ 37,  50],\n",
       "       [ 38,  50],\n",
       "       [ 39,  50],\n",
       "       [ 40,  50],\n",
       "       [ 41,  50],\n",
       "       [ 42,  50],\n",
       "       [ 43,  50],\n",
       "       [ 44,  50],\n",
       "       [ 45,  50],\n",
       "       [ 46,  50],\n",
       "       [ 47,  50],\n",
       "       [ 48,  50],\n",
       "       [ 49,  50],\n",
       "       [ 50,  50],\n",
       "       [ 51,  50],\n",
       "       [ 52,  50],\n",
       "       [ 53,  50],\n",
       "       [ 54,  50],\n",
       "       [ 55,  50],\n",
       "       [ 56,  50],\n",
       "       [ 57,  50],\n",
       "       [ 58,  50],\n",
       "       [ 59,  50],\n",
       "       [ 60,  50],\n",
       "       [ 61,  50],\n",
       "       [ 62,  50],\n",
       "       [ 63,  50],\n",
       "       [ 64,  50],\n",
       "       [ 65,  50],\n",
       "       [ 66,  50],\n",
       "       [ 67,  50],\n",
       "       [ 68,  50],\n",
       "       [ 69,  50],\n",
       "       [ 70,  50],\n",
       "       [ 71,  50],\n",
       "       [ 72,  50],\n",
       "       [ 73,  50],\n",
       "       [ 74,  50],\n",
       "       [ 75,  50],\n",
       "       [ 76,  50],\n",
       "       [ 77,  50],\n",
       "       [ 78,  50],\n",
       "       [ 79,  50],\n",
       "       [ 80,  50],\n",
       "       [129,  50],\n",
       "       [130,  50],\n",
       "       [131,  50],\n",
       "       [132,  50],\n",
       "       [133,  50],\n",
       "       [134,  50],\n",
       "       [135,  50],\n",
       "       [136,  50],\n",
       "       [137,  50],\n",
       "       [138,  50],\n",
       "       [139,  50],\n",
       "       [140,  50],\n",
       "       [141,  50],\n",
       "       [142,  50],\n",
       "       [143,  50],\n",
       "       [144,  50],\n",
       "       [145,  50],\n",
       "       [146,  50],\n",
       "       [147,  50],\n",
       "       [148,  50],\n",
       "       [149,  50],\n",
       "       [150,  50],\n",
       "       [151,  50],\n",
       "       [152,  50],\n",
       "       [153,  50],\n",
       "       [154,  50],\n",
       "       [155,  50],\n",
       "       [156,  50],\n",
       "       [157,  50],\n",
       "       [158,  50],\n",
       "       [159,  50],\n",
       "       [160,  50],\n",
       "       [161,  50],\n",
       "       [162,  50],\n",
       "       [163,  50],\n",
       "       [164,  50],\n",
       "       [165,  50],\n",
       "       [166,  50],\n",
       "       [167,  50],\n",
       "       [168,  50],\n",
       "       [169,  50],\n",
       "       [170,  50],\n",
       "       [171,  50],\n",
       "       [172,  50],\n",
       "       [174,  50],\n",
       "       [175,  50],\n",
       "       [176,  50],\n",
       "       [177,  50],\n",
       "       [178,  50],\n",
       "       [179,  50],\n",
       "       [180,  50],\n",
       "       [181,  50],\n",
       "       [182,  50],\n",
       "       [183,  50],\n",
       "       [184,  50],\n",
       "       [185,  50],\n",
       "       [186,  50],\n",
       "       [187,  50],\n",
       "       [188,  50]])"
      ]
     },
     "execution_count": 22,
     "metadata": {},
     "output_type": "execute_result"
    }
   ],
   "source": [
    "np.transpose(np.unique(Pat_nr,return_counts=True))"
   ]
  },
  {
   "cell_type": "code",
   "execution_count": 23,
   "metadata": {},
   "outputs": [
    {
     "name": "stdout",
     "output_type": "stream",
     "text": [
      "[76. 63.]\n",
      "Pat\n",
      "adeno sqcc\n"
     ]
    }
   ],
   "source": [
    "print(np.unique(Klasse,return_counts=True)[1]/50)\n",
    "print(\"Pat\")\n",
    "print(\"adeno\",\"sqcc\")"
   ]
  },
  {
   "cell_type": "code",
   "execution_count": 24,
   "metadata": {},
   "outputs": [
    {
     "data": {
      "text/plain": [
       "array([  1,   2,   3,   4,   5,   6,   7,   8,   9,  10,  11,  12,  13,\n",
       "        14,  15,  16,  17,  18,  19,  20,  21,  22,  23,  24,  25,  26,\n",
       "        27,  28,  29,  30,  31,  32,  33,  34,  35,  36,  37,  38,  39,\n",
       "        40,  41,  42,  43,  44,  45,  46,  47,  48,  49,  50,  51,  52,\n",
       "        53,  54,  55,  56,  57,  58,  59,  60,  61,  62,  63,  64,  65,\n",
       "        66,  67,  68,  69,  70,  71,  72,  73,  74,  75,  76,  77,  78,\n",
       "        79,  80, 129, 130, 131, 132, 133, 134, 135, 136, 137, 138, 139,\n",
       "       140, 141, 142, 143, 144, 145, 146, 147, 148, 149, 150, 151, 152,\n",
       "       153, 154, 155, 156, 157, 158, 159, 160, 161, 162, 163, 164, 165,\n",
       "       166, 167, 168, 169, 170, 171, 172, 174, 175, 176, 177, 178, 179,\n",
       "       180, 181, 182, 183, 184, 185, 186, 187, 188], dtype=uint16)"
      ]
     },
     "execution_count": 24,
     "metadata": {},
     "output_type": "execute_result"
    }
   ],
   "source": [
    "np.unique(Pat_nr)"
   ]
  },
  {
   "cell_type": "markdown",
   "metadata": {},
   "source": [
    "### splitting into train and valid"
   ]
  },
  {
   "cell_type": "code",
   "execution_count": 25,
   "metadata": {},
   "outputs": [
    {
     "data": {
      "text/plain": [
       "array([  1,   3,   6,  21,  24,  26,  35,  43,  46,  48,  51,  55,  56,\n",
       "        64,  66,  78, 135, 137, 143, 147, 148, 152, 154, 160, 170, 179,\n",
       "       186, 188], dtype=uint16)"
      ]
     },
     "execution_count": 25,
     "metadata": {},
     "output_type": "execute_result"
    }
   ],
   "source": [
    "np.random.seed(seed=278)\n",
    "Pat_sample=np.sort(np.random.choice(np.unique(Pat_nr),28,replace=False))\n",
    "Pat_sample"
   ]
  },
  {
   "cell_type": "code",
   "execution_count": 26,
   "metadata": {},
   "outputs": [
    {
     "name": "stdout",
     "output_type": "stream",
     "text": [
      "['adeno' 'adeno' 'adeno' 'adeno' 'adeno' 'adeno' 'adeno' 'sqcc' 'sqcc'\n",
      " 'sqcc' 'sqcc' 'sqcc' 'sqcc' 'sqcc' 'sqcc' 'sqcc' 'adeno' 'sqcc' 'adeno'\n",
      " 'adeno' 'adeno' 'adeno' 'sqcc' 'adeno' 'sqcc' 'adeno' 'adeno' 'sqcc']\n"
     ]
    },
    {
     "data": {
      "text/plain": [
       "(array(['adeno', 'sqcc'], dtype='<U30'), array([15, 13]))"
      ]
     },
     "execution_count": 26,
     "metadata": {},
     "output_type": "execute_result"
    }
   ],
   "source": [
    "val_dist=[Patho_data.loc[np.where(Pat_nr==Pat_sample[idx])[0][0],\"label\"] for idx in range(0,len(Pat_sample))]\n",
    "val_dist=np.array(val_dist,dtype=\"U30\")\n",
    "print(val_dist)\n",
    "np.unique(val_dist,return_counts=True)"
   ]
  },
  {
   "cell_type": "code",
   "execution_count": 27,
   "metadata": {},
   "outputs": [
    {
     "data": {
      "text/plain": [
       "array([  1,   3,   6,  21,  24,  26,  35,  43,  46,  48,  51,  55,  56,\n",
       "        64,  66,  78, 135, 137, 143, 147, 148, 152, 154, 160, 170, 179,\n",
       "       186, 188], dtype=uint16)"
      ]
     },
     "execution_count": 27,
     "metadata": {},
     "output_type": "execute_result"
    }
   ],
   "source": [
    "Pat_sample"
   ]
  },
  {
   "cell_type": "code",
   "execution_count": 28,
   "metadata": {},
   "outputs": [
    {
     "data": {
      "text/plain": [
       "array([   0,    1,    2, ..., 6947, 6948, 6949], dtype=uint16)"
      ]
     },
     "execution_count": 28,
     "metadata": {},
     "output_type": "execute_result"
    }
   ],
   "source": [
    "idx=[np.where(Pat_nr==Pat_sample[x]) for x in range(0,len(Pat_sample))]\n",
    "idx=np.array(idx,dtype=\"uint16\").reshape(28*50)\n",
    "idx"
   ]
  },
  {
   "cell_type": "code",
   "execution_count": 29,
   "metadata": {},
   "outputs": [],
   "source": [
    "idx2=np.arange(0,6950,dtype=\"uint16\")\n",
    "idx2=np.delete(idx2,idx)"
   ]
  },
  {
   "cell_type": "code",
   "execution_count": 30,
   "metadata": {},
   "outputs": [],
   "source": [
    "idx_val=idx\n",
    "idx_train=idx2"
   ]
  },
  {
   "cell_type": "code",
   "execution_count": 31,
   "metadata": {},
   "outputs": [
    {
     "data": {
      "text/plain": [
       "0"
      ]
     },
     "execution_count": 31,
     "metadata": {},
     "output_type": "execute_result"
    }
   ],
   "source": [
    "sum(np.in1d(idx_train,idx_val))"
   ]
  },
  {
   "cell_type": "code",
   "execution_count": 32,
   "metadata": {},
   "outputs": [],
   "source": [
    "Train_data=Patho_data.loc[idx_train]\n",
    "Val_data=Patho_data.loc[idx_val]"
   ]
  },
  {
   "cell_type": "code",
   "execution_count": 33,
   "metadata": {},
   "outputs": [
    {
     "data": {
      "text/plain": [
       "(array(['10', '11', '12', '129', '13', '130', '131', '132', '133', '134',\n",
       "        '136', '138', '139', '14', '140', '141', '142', '144', '145',\n",
       "        '146', '149', '15', '150', '151', '153', '155', '156', '157',\n",
       "        '158', '159', '16', '161', '162', '163', '164', '165', '166',\n",
       "        '167', '168', '169', '17', '171', '172', '174', '175', '176',\n",
       "        '177', '178', '18', '180', '181', '182', '183', '184', '185',\n",
       "        '187', '19', '2', '20', '22', '23', '25', '27', '28', '29', '30',\n",
       "        '31', '32', '33', '34', '36', '37', '38', '39', '4', '40', '41',\n",
       "        '42', '44', '45', '47', '49', '5', '50', '52', '53', '54', '57',\n",
       "        '58', '59', '60', '61', '62', '63', '65', '67', '68', '69', '7',\n",
       "        '70', '71', '72', '73', '74', '75', '76', '77', '79', '8', '80',\n",
       "        '9'], dtype=object),\n",
       " array([50, 50, 50, 50, 50, 50, 50, 50, 50, 50, 50, 50, 50, 50, 50, 50, 50,\n",
       "        50, 50, 50, 50, 50, 50, 50, 50, 50, 50, 50, 50, 50, 50, 50, 50, 50,\n",
       "        50, 50, 50, 50, 50, 50, 50, 50, 50, 50, 50, 50, 50, 50, 50, 50, 50,\n",
       "        50, 50, 50, 50, 50, 50, 50, 50, 50, 50, 50, 50, 50, 50, 50, 50, 50,\n",
       "        50, 50, 50, 50, 50, 50, 50, 50, 50, 50, 50, 50, 50, 50, 50, 50, 50,\n",
       "        50, 50, 50, 50, 50, 50, 50, 50, 50, 50, 50, 50, 50, 50, 50, 50, 50,\n",
       "        50, 50, 50, 50, 50, 50, 50, 50, 50]))"
      ]
     },
     "execution_count": 33,
     "metadata": {},
     "output_type": "execute_result"
    }
   ],
   "source": [
    "np.unique(Train_data.loc[:,\"Pat_nr\"],return_counts=True)"
   ]
  },
  {
   "cell_type": "markdown",
   "metadata": {},
   "source": [
    "### shuffle train and valid data"
   ]
  },
  {
   "cell_type": "code",
   "execution_count": 34,
   "metadata": {},
   "outputs": [],
   "source": [
    "Train_data=Train_data.sample(frac=1,random_state=13)\n",
    "Val_data=Val_data.sample(frac=1,random_state=13)\n"
   ]
  },
  {
   "cell_type": "code",
   "execution_count": 35,
   "metadata": {},
   "outputs": [
    {
     "data": {
      "text/plain": [
       "'/notebooks/local/Patho_Poster_DLD_2017/training-pa129-188-8x/pa156-adeno/adeno-pa156-im50.tif'"
      ]
     },
     "execution_count": 35,
     "metadata": {},
     "output_type": "execute_result"
    }
   ],
   "source": [
    "Train_data.loc[Train_data.index[0],\"Pfad\"]"
   ]
  },
  {
   "cell_type": "markdown",
   "metadata": {},
   "source": [
    "### reading the .tif files in and resize them"
   ]
  },
  {
   "cell_type": "code",
   "execution_count": 36,
   "metadata": {
    "scrolled": true
   },
   "outputs": [
    {
     "name": "stdout",
     "output_type": "stream",
     "text": [
      "(5550, 64, 64, 3)\n"
     ]
    },
    {
     "name": "stderr",
     "output_type": "stream",
     "text": [
      "/usr/local/lib/python3.5/dist-packages/ipykernel_launcher.py:5: DeprecationWarning: `imread` is deprecated!\n",
      "`imread` is deprecated in SciPy 1.0.0, and will be removed in 1.2.0.\n",
      "Use ``imageio.imread`` instead.\n",
      "  \"\"\"\n",
      "/usr/local/lib/python3.5/dist-packages/ipykernel_launcher.py:6: DeprecationWarning: `imresize` is deprecated!\n",
      "`imresize` is deprecated in SciPy 1.0.0, and will be removed in 1.2.0.\n",
      "Use ``skimage.transform.resize`` instead.\n",
      "  \n"
     ]
    }
   ],
   "source": [
    "size=64\n",
    "X_train = np.zeros((len(idx_train),size,size,3))\n",
    "print(X_train.shape)\n",
    "for i in range(0,len(Train_data)):\n",
    "    img =  misc.imread(Train_data.loc[Train_data.index[i],\"Pfad\"],flatten = False)\n",
    "    img_resized=misc.imresize(img,[size,size])\n",
    "    X_train[i,:,:,:] = img_resized"
   ]
  },
  {
   "cell_type": "code",
   "execution_count": 37,
   "metadata": {},
   "outputs": [
    {
     "name": "stdout",
     "output_type": "stream",
     "text": [
      "(1400, 64, 64, 3)\n"
     ]
    },
    {
     "name": "stderr",
     "output_type": "stream",
     "text": [
      "/usr/local/lib/python3.5/dist-packages/ipykernel_launcher.py:5: DeprecationWarning: `imread` is deprecated!\n",
      "`imread` is deprecated in SciPy 1.0.0, and will be removed in 1.2.0.\n",
      "Use ``imageio.imread`` instead.\n",
      "  \"\"\"\n",
      "/usr/local/lib/python3.5/dist-packages/ipykernel_launcher.py:6: DeprecationWarning: `imresize` is deprecated!\n",
      "`imresize` is deprecated in SciPy 1.0.0, and will be removed in 1.2.0.\n",
      "Use ``skimage.transform.resize`` instead.\n",
      "  \n"
     ]
    }
   ],
   "source": [
    "size=64\n",
    "X_val = np.zeros((len(idx_val),size,size,3))\n",
    "print(X_val.shape)\n",
    "for i in range(0,len(Val_data)):\n",
    "    img =  misc.imread(Val_data.loc[Val_data.index[i],\"Pfad\"],flatten = False)\n",
    "    img_resized=misc.imresize(img,[size,size])\n",
    "    X_val[i,:,:,:] = img_resized"
   ]
  },
  {
   "cell_type": "code",
   "execution_count": 38,
   "metadata": {},
   "outputs": [
    {
     "data": {
      "text/plain": [
       "array([0, 1, 0, ..., 0, 0, 0], dtype=uint8)"
      ]
     },
     "execution_count": 38,
     "metadata": {},
     "output_type": "execute_result"
    }
   ],
   "source": [
    "Y_train=Train_data.loc[Train_data.index[:],\"Klasse\"]\n",
    "Y_train=np.array(Y_train,dtype=\"uint8\")\n",
    "Y_train\n",
    "\n",
    "Y_val=Val_data.loc[Val_data.index[:],\"Klasse\"]\n",
    "Y_val=np.array(Y_val,dtype=\"uint8\")\n",
    "Y_val"
   ]
  },
  {
   "cell_type": "code",
   "execution_count": 39,
   "metadata": {},
   "outputs": [
    {
     "data": {
      "text/plain": [
       "'adeno'"
      ]
     },
     "execution_count": 39,
     "metadata": {},
     "output_type": "execute_result"
    },
    {
     "data": {
      "image/png": "[encoded data removed]",
      "text/plain": [
       "<matplotlib.figure.Figure at 0x7f757ac4a4a8>"
      ]
     },
     "metadata": {},
     "output_type": "display_data"
    }
   ],
   "source": [
    "plt.imshow(np.array(X_train[0],dtype=\"uint8\"))\n",
    "Train_data.loc[Train_data.index[0],\"label\"]"
   ]
  },
  {
   "cell_type": "code",
   "execution_count": 40,
   "metadata": {},
   "outputs": [],
   "source": [
    "# Taken from http://stackoverflow.com/questions/29831489/numpy-1-hot-array\n",
    "def convertToOneHot(vector, num_classes=None):\n",
    "    result = np.zeros((len(vector), num_classes), dtype='float32')\n",
    "    result[np.arange(len(vector)), vector] = 1\n",
    "    return result"
   ]
  },
  {
   "cell_type": "code",
   "execution_count": 41,
   "metadata": {},
   "outputs": [],
   "source": [
    "Y_train=convertToOneHot(Y_train,num_classes=2)\n",
    "Y_val=convertToOneHot(Y_val,num_classes=2)"
   ]
  },
  {
   "cell_type": "markdown",
   "metadata": {},
   "source": [
    "### save as hdf5"
   ]
  },
  {
   "cell_type": "code",
   "execution_count": 42,
   "metadata": {},
   "outputs": [
    {
     "name": "stderr",
     "output_type": "stream",
     "text": [
      "/usr/local/lib/python3.5/dist-packages/h5py/__init__.py:36: FutureWarning: Conversion of the second argument of issubdtype from `float` to `np.floating` is deprecated. In future, it will be treated as `np.float64 == np.dtype(float).type`.\n",
      "  from ._conv import register_converters as _register_converters\n"
     ]
    }
   ],
   "source": [
    "import h5py\n",
    "h5f = h5py.File('/notebooks/local/Patho_Poster_DLD_2017/Train_1.hdf5', 'w')\n",
    "h5f.create_dataset('X_train', data=X_train)\n",
    "h5f.create_dataset('Y_train', data=Y_train)\n",
    "h5f.close()\n",
    "\n",
    "h5f = h5py.File('/notebooks/local/Patho_Poster_DLD_2017/Val1.hdf5', 'w')\n",
    "h5f.create_dataset('X_val', data=X_val)\n",
    "h5f.create_dataset('Y_val', data=Y_val)\n",
    "h5f.close()\n"
   ]
  },
  {
   "cell_type": "code",
   "execution_count": 44,
   "metadata": {},
   "outputs": [
    {
     "name": "stdout",
     "output_type": "stream",
     "text": [
      "['X_train', 'Y_train']\n"
     ]
    }
   ],
   "source": [
    "import h5py\n",
    "hf = h5py.File('/notebooks/local/Patho_Poster_DLD_2017/Train_1.hdf5', 'r')\n",
    "print(list(hf.keys()))\n",
    "X_train = hf.get('X_train')\n",
    "Y_train = hf.get('Y_train')"
   ]
  },
  {
   "cell_type": "code",
   "execution_count": 45,
   "metadata": {},
   "outputs": [
    {
     "name": "stdout",
     "output_type": "stream",
     "text": [
      "['X_val', 'Y_val']\n"
     ]
    }
   ],
   "source": [
    "hf = h5py.File('/notebooks/local/Patho_Poster_DLD_2017/Val1.hdf5', 'r')\n",
    "print(list(hf.keys()))\n",
    "X_val = hf.get('X_val')\n",
    "Y_val = hf.get('Y_val')"
   ]
  },
  {
   "cell_type": "code",
   "execution_count": null,
   "metadata": {},
   "outputs": [],
   "source": []
  }
 ],
 "metadata": {
  "kernelspec": {
   "display_name": "Python 3",
   "language": "python",
   "name": "python3"
  },
  "language_info": {
   "codemirror_mode": {
    "name": "ipython",
    "version": 3
   },
   "file_extension": ".py",
   "mimetype": "text/x-python",
   "name": "python",
   "nbconvert_exporter": "python",
   "pygments_lexer": "ipython3",
   "version": "3.5.2"
  }
 },
 "nbformat": 4,
 "nbformat_minor": 2
}
