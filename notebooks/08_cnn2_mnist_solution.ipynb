{
 "cells": [
  {
   "cell_type": "markdown",
   "metadata": {},
   "source": [
    "# Using deeper CNN on a small MNIST data set\n",
    "\n",
    "In this script we build deeper CNN with many convolutional layers. Like in the experiments with the fully connected NN with MNIST that we performed last time, we use again a small data with only 2400 images in the training data set so that the NN can be trained on the CPU."
   ]
  },
  {
   "cell_type": "code",
   "execution_count": 1,
   "metadata": {
    "scrolled": true
   },
   "outputs": [
    {
     "name": "stderr",
     "output_type": "stream",
     "text": [
      "/usr/local/lib/python3.5/dist-packages/h5py/__init__.py:36: FutureWarning: Conversion of the second argument of issubdtype from `float` to `np.floating` is deprecated. In future, it will be treated as `np.float64 == np.dtype(float).type`.\n",
      "  from ._conv import register_converters as _register_converters\n",
      "Using TensorFlow backend.\n"
     ]
    },
    {
     "name": "stdout",
     "output_type": "stream",
     "text": [
      "Keras 2.1.4 TF 1.6.0 Python sys.version_info(major=3, minor=5, micro=2, releaselevel='final', serial=0)\n"
     ]
    }
   ],
   "source": [
    "%matplotlib inline\n",
    "\n",
    "import matplotlib.pyplot as plt\n",
    "import matplotlib.image as imgplot\n",
    "import numpy as np\n",
    "import pandas as pd\n",
    "from sklearn.metrics import confusion_matrix\n",
    "from IPython.display import SVG\n",
    "from keras.utils.vis_utils import model_to_dot\n",
    "\n",
    "import time\n",
    "import tensorflow as tf\n",
    "tf.set_random_seed(1)\n",
    "\n",
    "from keras.models import Sequential\n",
    "from keras.layers import Dense, Activation, Dropout, BatchNormalization\n",
    "from keras.layers import Convolution2D, MaxPooling2D, Flatten\n",
    "import keras\n",
    "import sys\n",
    "print (\"Keras {} TF {} Python {}\".format(keras.__version__, tf.__version__, sys.version_info))"
   ]
  },
  {
   "cell_type": "code",
   "execution_count": 2,
   "metadata": {},
   "outputs": [],
   "source": [
    "from keras.datasets import mnist\n",
    "(x_train, y_train), (x_test, y_test) = mnist.load_data()\n",
    "X_train=x_train[0:2400]\n",
    "Y_train=y_train[0:2400]\n",
    "\n",
    "X_val=x_train[2400:3000]\n",
    "Y_val=y_train[2400:3000]\n",
    "\n",
    "X_test=x_test[0:1000]\n",
    "Y_test=y_test[0:1000]\n",
    "\n",
    "del x_train, y_train, x_test, y_test\n"
   ]
  },
  {
   "cell_type": "code",
   "execution_count": 3,
   "metadata": {},
   "outputs": [
    {
     "name": "stdout",
     "output_type": "stream",
     "text": [
      "(2400, 28, 28, 1)\n",
      "(600, 28, 28, 1)\n",
      "(1000, 28, 28, 1)\n"
     ]
    }
   ],
   "source": [
    "X_train=np.reshape(X_train, (2400,28,28,1))\n",
    "X_val=np.reshape(X_val, (600,28,28,1))\n",
    "X_test=np.reshape(X_test, (1000,28,28,1))\n",
    "\n",
    "print(X_train.shape)\n",
    "print(X_val.shape)\n",
    "print(X_test.shape)"
   ]
  },
  {
   "cell_type": "code",
   "execution_count": 4,
   "metadata": {},
   "outputs": [
    {
     "data": {
      "text/plain": [
       "<matplotlib.image.AxesImage at 0x7f09554c3d68>"
      ]
     },
     "execution_count": 4,
     "metadata": {},
     "output_type": "execute_result"
    },
    {
     "data": {
      "image/png": "[encoded data removed]",
      "text/plain": [
       "<matplotlib.figure.Figure at 0x7f095a9502b0>"
      ]
     },
     "metadata": {},
     "output_type": "display_data"
    }
   ],
   "source": [
    "plt.imshow(X_train[42,:,:,0],cmap=\"gray\")"
   ]
  },
  {
   "cell_type": "code",
   "execution_count": 5,
   "metadata": {},
   "outputs": [
    {
     "name": "stdout",
     "output_type": "stream",
     "text": [
      "class label\n",
      "[5 0 4 1 9]\n",
      "class label in OneHot encodig\n",
      "[[0. 0. 0. 0. 0. 1. 0. 0. 0. 0.]\n",
      " [1. 0. 0. 0. 0. 0. 0. 0. 0. 0.]\n",
      " [0. 0. 0. 0. 1. 0. 0. 0. 0. 0.]\n",
      " [0. 1. 0. 0. 0. 0. 0. 0. 0. 0.]\n",
      " [0. 0. 0. 0. 0. 0. 0. 0. 0. 1.]]\n"
     ]
    }
   ],
   "source": [
    "def convertToOneHot(vector, num_classes=None):\n",
    "    result = np.zeros((len(vector), num_classes), dtype='float32')\n",
    "    result[np.arange(len(vector)), vector] = 1\n",
    "    return result\n",
    "print(\"class label\")\n",
    "print(Y_train[0:5])\n",
    "print(\"class label in OneHot encodig\")\n",
    "print(convertToOneHot(Y_train[0:5], 10))"
   ]
  },
  {
   "cell_type": "code",
   "execution_count": 6,
   "metadata": {},
   "outputs": [
    {
     "name": "stdout",
     "output_type": "stream",
     "text": [
      "(2400, 10)\n",
      "(600, 10)\n"
     ]
    }
   ],
   "source": [
    "Y_train=convertToOneHot(Y_train,num_classes=10)\n",
    "print(Y_train.shape)\n",
    "Y_val=convertToOneHot(Y_val,num_classes=10)\n",
    "print(Y_val.shape)"
   ]
  },
  {
   "cell_type": "code",
   "execution_count": 7,
   "metadata": {},
   "outputs": [],
   "source": [
    "# here we center and standardize the data\n",
    "X_mean = np.mean( X_train, axis = 0)\n",
    "X_std = np.std( X_train, axis = 0)\n",
    "\n",
    "X_train = (X_train - X_mean ) / (X_std + 0.0001)\n",
    "X_val = (X_val - X_mean ) / (X_std + 0.0001)"
   ]
  },
  {
   "cell_type": "code",
   "execution_count": 8,
   "metadata": {},
   "outputs": [],
   "source": [
    "# here we define  hyperparameter of the NN\n",
    "batch_size = 128\n",
    "nb_classes = 10\n",
    "nb_epoch = 30\n",
    "img_rows, img_cols = 28, 28\n",
    "kernel_size = (3, 3)\n",
    "input_shape = (img_rows, img_cols, 1)\n",
    "pool_size = (2, 2)"
   ]
  },
  {
   "cell_type": "code",
   "execution_count": 9,
   "metadata": {},
   "outputs": [],
   "source": [
    "### a deeper CNN model\n",
    "name = 'cnn2'\n",
    "model = Sequential()\n",
    "\n",
    "model.add(Convolution2D(8,kernel_size,padding='same',input_shape=input_shape))\n",
    "model.add(BatchNormalization())\n",
    "model.add(Activation('relu'))\n",
    "model.add(Convolution2D(8, kernel_size,padding='same'))\n",
    "model.add(BatchNormalization())\n",
    "model.add(Activation('relu'))\n",
    "model.add(MaxPooling2D(pool_size=pool_size))\n",
    "\n",
    "model.add(Convolution2D(16, kernel_size,padding='same'))\n",
    "model.add(BatchNormalization())\n",
    "model.add(Activation('relu'))\n",
    "\n",
    "# here is your code comming:\n",
    "\n",
    "model.add(Convolution2D(16,kernel_size,padding='same'))\n",
    "model.add(BatchNormalization())\n",
    "model.add(Activation('relu'))\n",
    "model.add(MaxPooling2D(pool_size=pool_size))\n",
    "\n",
    "# end of your code\n",
    "\n",
    "model.add(Flatten())#macht einen vektor aus dem output\n",
    "model.add(Dense(40))\n",
    "model.add(BatchNormalization())\n",
    "model.add(Dropout(0.3))\n",
    "model.add(Activation('relu'))\n",
    "model.add(Dense(nb_classes))\n",
    "model.add(Activation('softmax'))\n",
    "\n",
    "model.compile(loss='categorical_crossentropy',\n",
    "              optimizer='adam',\n",
    "              metrics=['accuracy'])\n"
   ]
  },
  {
   "cell_type": "code",
   "execution_count": 10,
   "metadata": {},
   "outputs": [
    {
     "name": "stdout",
     "output_type": "stream",
     "text": [
      "_________________________________________________________________\n",
      "Layer (type)                 Output Shape              Param #   \n",
      "=================================================================\n",
      "conv2d_1 (Conv2D)            (None, 28, 28, 8)         80        \n",
      "_________________________________________________________________\n",
      "batch_normalization_1 (Batch (None, 28, 28, 8)         32        \n",
      "_________________________________________________________________\n",
      "activation_1 (Activation)    (None, 28, 28, 8)         0         \n",
      "_________________________________________________________________\n",
      "conv2d_2 (Conv2D)            (None, 28, 28, 8)         584       \n",
      "_________________________________________________________________\n",
      "batch_normalization_2 (Batch (None, 28, 28, 8)         32        \n",
      "_________________________________________________________________\n",
      "activation_2 (Activation)    (None, 28, 28, 8)         0         \n",
      "_________________________________________________________________\n",
      "max_pooling2d_1 (MaxPooling2 (None, 14, 14, 8)         0         \n",
      "_________________________________________________________________\n",
      "conv2d_3 (Conv2D)            (None, 14, 14, 16)        1168      \n",
      "_________________________________________________________________\n",
      "batch_normalization_3 (Batch (None, 14, 14, 16)        64        \n",
      "_________________________________________________________________\n",
      "activation_3 (Activation)    (None, 14, 14, 16)        0         \n",
      "_________________________________________________________________\n",
      "conv2d_4 (Conv2D)            (None, 14, 14, 16)        2320      \n",
      "_________________________________________________________________\n",
      "batch_normalization_4 (Batch (None, 14, 14, 16)        64        \n",
      "_________________________________________________________________\n",
      "activation_4 (Activation)    (None, 14, 14, 16)        0         \n",
      "_________________________________________________________________\n",
      "max_pooling2d_2 (MaxPooling2 (None, 7, 7, 16)          0         \n",
      "_________________________________________________________________\n",
      "flatten_1 (Flatten)          (None, 784)               0         \n",
      "_________________________________________________________________\n",
      "dense_1 (Dense)              (None, 40)                31400     \n",
      "_________________________________________________________________\n",
      "batch_normalization_5 (Batch (None, 40)                160       \n",
      "_________________________________________________________________\n",
      "dropout_1 (Dropout)          (None, 40)                0         \n",
      "_________________________________________________________________\n",
      "activation_5 (Activation)    (None, 40)                0         \n",
      "_________________________________________________________________\n",
      "dense_2 (Dense)              (None, 10)                410       \n",
      "_________________________________________________________________\n",
      "activation_6 (Activation)    (None, 10)                0         \n",
      "=================================================================\n",
      "Total params: 36,314\n",
      "Trainable params: 36,138\n",
      "Non-trainable params: 176\n",
      "_________________________________________________________________\n"
     ]
    }
   ],
   "source": [
    "model.summary()"
   ]
  },
  {
   "cell_type": "code",
   "execution_count": 11,
   "metadata": {
    "scrolled": false
   },
   "outputs": [
    {
     "data": {
      "image/svg+xml": [
       "<svg height=\"1578pt\" viewBox=\"0.00 0.00 340.00 1578.00\" width=\"340pt\" xmlns=\"http://www.w3.org/2000/svg\" xmlns:xlink=\"http://www.w3.org/1999/xlink\">\n",
       "<g class=\"graph\" id=\"graph0\" transform=\"scale(1 1) rotate(0) translate(4 1574)\">\n",
       "<title>G</title>\n",
       "<polygon fill=\"white\" points=\"-4,4 -4,-1574 336,-1574 336,4 -4,4\" stroke=\"none\"/>\n",
       "<!-- 139678061834928 -->\n",
       "<g class=\"node\" id=\"node1\"><title>139678061834928</title>\n",
       "<polygon fill=\"none\" points=\"56.5,-1533.5 56.5,-1569.5 275.5,-1569.5 275.5,-1533.5 56.5,-1533.5\" stroke=\"black\"/>\n",
       "<text font-family=\"Times,serif\" font-size=\"14.00\" text-anchor=\"middle\" x=\"166\" y=\"-1547.8\">conv2d_1_input: InputLayer</text>\n",
       "</g>\n",
       "<!-- 139678061834816 -->\n",
       "<g class=\"node\" id=\"node2\"><title>139678061834816</title>\n",
       "<polygon fill=\"none\" points=\"90.5,-1460.5 90.5,-1496.5 241.5,-1496.5 241.5,-1460.5 90.5,-1460.5\" stroke=\"black\"/>\n",
       "<text font-family=\"Times,serif\" font-size=\"14.00\" text-anchor=\"middle\" x=\"166\" y=\"-1474.8\">conv2d_1: Conv2D</text>\n",
       "</g>\n",
       "<!-- 139678061834928&#45;&gt;139678061834816 -->\n",
       "<g class=\"edge\" id=\"edge1\"><title>139678061834928-&gt;139678061834816</title>\n",
       "<path d=\"M166,-1533.31C166,-1525.29 166,-1515.55 166,-1506.57\" fill=\"none\" stroke=\"black\"/>\n",
       "<polygon fill=\"black\" points=\"169.5,-1506.53 166,-1496.53 162.5,-1506.53 169.5,-1506.53\" stroke=\"black\"/>\n",
       "</g>\n",
       "<!-- 139678061834872 -->\n",
       "<g class=\"node\" id=\"node3\"><title>139678061834872</title>\n",
       "<polygon fill=\"none\" points=\"0,-1387.5 0,-1423.5 332,-1423.5 332,-1387.5 0,-1387.5\" stroke=\"black\"/>\n",
       "<text font-family=\"Times,serif\" font-size=\"14.00\" text-anchor=\"middle\" x=\"166\" y=\"-1401.8\">batch_normalization_1: BatchNormalization</text>\n",
       "</g>\n",
       "<!-- 139678061834816&#45;&gt;139678061834872 -->\n",
       "<g class=\"edge\" id=\"edge2\"><title>139678061834816-&gt;139678061834872</title>\n",
       "<path d=\"M166,-1460.31C166,-1452.29 166,-1442.55 166,-1433.57\" fill=\"none\" stroke=\"black\"/>\n",
       "<polygon fill=\"black\" points=\"169.5,-1433.53 166,-1423.53 162.5,-1433.53 169.5,-1433.53\" stroke=\"black\"/>\n",
       "</g>\n",
       "<!-- 139678061835320 -->\n",
       "<g class=\"node\" id=\"node4\"><title>139678061835320</title>\n",
       "<polygon fill=\"none\" points=\"72.5,-1314.5 72.5,-1350.5 259.5,-1350.5 259.5,-1314.5 72.5,-1314.5\" stroke=\"black\"/>\n",
       "<text font-family=\"Times,serif\" font-size=\"14.00\" text-anchor=\"middle\" x=\"166\" y=\"-1328.8\">activation_1: Activation</text>\n",
       "</g>\n",
       "<!-- 139678061834872&#45;&gt;139678061835320 -->\n",
       "<g class=\"edge\" id=\"edge3\"><title>139678061834872-&gt;139678061835320</title>\n",
       "<path d=\"M166,-1387.31C166,-1379.29 166,-1369.55 166,-1360.57\" fill=\"none\" stroke=\"black\"/>\n",
       "<polygon fill=\"black\" points=\"169.5,-1360.53 166,-1350.53 162.5,-1360.53 169.5,-1360.53\" stroke=\"black\"/>\n",
       "</g>\n",
       "<!-- 139678061837840 -->\n",
       "<g class=\"node\" id=\"node5\"><title>139678061837840</title>\n",
       "<polygon fill=\"none\" points=\"90.5,-1241.5 90.5,-1277.5 241.5,-1277.5 241.5,-1241.5 90.5,-1241.5\" stroke=\"black\"/>\n",
       "<text font-family=\"Times,serif\" font-size=\"14.00\" text-anchor=\"middle\" x=\"166\" y=\"-1255.8\">conv2d_2: Conv2D</text>\n",
       "</g>\n",
       "<!-- 139678061835320&#45;&gt;139678061837840 -->\n",
       "<g class=\"edge\" id=\"edge4\"><title>139678061835320-&gt;139678061837840</title>\n",
       "<path d=\"M166,-1314.31C166,-1306.29 166,-1296.55 166,-1287.57\" fill=\"none\" stroke=\"black\"/>\n",
       "<polygon fill=\"black\" points=\"169.5,-1287.53 166,-1277.53 162.5,-1287.53 169.5,-1287.53\" stroke=\"black\"/>\n",
       "</g>\n",
       "<!-- 139678061835544 -->\n",
       "<g class=\"node\" id=\"node6\"><title>139678061835544</title>\n",
       "<polygon fill=\"none\" points=\"0,-1168.5 0,-1204.5 332,-1204.5 332,-1168.5 0,-1168.5\" stroke=\"black\"/>\n",
       "<text font-family=\"Times,serif\" font-size=\"14.00\" text-anchor=\"middle\" x=\"166\" y=\"-1182.8\">batch_normalization_2: BatchNormalization</text>\n",
       "</g>\n",
       "<!-- 139678061837840&#45;&gt;139678061835544 -->\n",
       "<g class=\"edge\" id=\"edge5\"><title>139678061837840-&gt;139678061835544</title>\n",
       "<path d=\"M166,-1241.31C166,-1233.29 166,-1223.55 166,-1214.57\" fill=\"none\" stroke=\"black\"/>\n",
       "<polygon fill=\"black\" points=\"169.5,-1214.53 166,-1204.53 162.5,-1214.53 169.5,-1214.53\" stroke=\"black\"/>\n",
       "</g>\n",
       "<!-- 139678142279520 -->\n",
       "<g class=\"node\" id=\"node7\"><title>139678142279520</title>\n",
       "<polygon fill=\"none\" points=\"72.5,-1095.5 72.5,-1131.5 259.5,-1131.5 259.5,-1095.5 72.5,-1095.5\" stroke=\"black\"/>\n",
       "<text font-family=\"Times,serif\" font-size=\"14.00\" text-anchor=\"middle\" x=\"166\" y=\"-1109.8\">activation_2: Activation</text>\n",
       "</g>\n",
       "<!-- 139678061835544&#45;&gt;139678142279520 -->\n",
       "<g class=\"edge\" id=\"edge6\"><title>139678061835544-&gt;139678142279520</title>\n",
       "<path d=\"M166,-1168.31C166,-1160.29 166,-1150.55 166,-1141.57\" fill=\"none\" stroke=\"black\"/>\n",
       "<polygon fill=\"black\" points=\"169.5,-1141.53 166,-1131.53 162.5,-1141.53 169.5,-1141.53\" stroke=\"black\"/>\n",
       "</g>\n",
       "<!-- 139678142024616 -->\n",
       "<g class=\"node\" id=\"node8\"><title>139678142024616</title>\n",
       "<polygon fill=\"none\" points=\"39,-1022.5 39,-1058.5 293,-1058.5 293,-1022.5 39,-1022.5\" stroke=\"black\"/>\n",
       "<text font-family=\"Times,serif\" font-size=\"14.00\" text-anchor=\"middle\" x=\"166\" y=\"-1036.8\">max_pooling2d_1: MaxPooling2D</text>\n",
       "</g>\n",
       "<!-- 139678142279520&#45;&gt;139678142024616 -->\n",
       "<g class=\"edge\" id=\"edge7\"><title>139678142279520-&gt;139678142024616</title>\n",
       "<path d=\"M166,-1095.31C166,-1087.29 166,-1077.55 166,-1068.57\" fill=\"none\" stroke=\"black\"/>\n",
       "<polygon fill=\"black\" points=\"169.5,-1068.53 166,-1058.53 162.5,-1068.53 169.5,-1068.53\" stroke=\"black\"/>\n",
       "</g>\n",
       "<!-- 139678142129432 -->\n",
       "<g class=\"node\" id=\"node9\"><title>139678142129432</title>\n",
       "<polygon fill=\"none\" points=\"90.5,-949.5 90.5,-985.5 241.5,-985.5 241.5,-949.5 90.5,-949.5\" stroke=\"black\"/>\n",
       "<text font-family=\"Times,serif\" font-size=\"14.00\" text-anchor=\"middle\" x=\"166\" y=\"-963.8\">conv2d_3: Conv2D</text>\n",
       "</g>\n",
       "<!-- 139678142024616&#45;&gt;139678142129432 -->\n",
       "<g class=\"edge\" id=\"edge8\"><title>139678142024616-&gt;139678142129432</title>\n",
       "<path d=\"M166,-1022.31C166,-1014.29 166,-1004.55 166,-995.569\" fill=\"none\" stroke=\"black\"/>\n",
       "<polygon fill=\"black\" points=\"169.5,-995.529 166,-985.529 162.5,-995.529 169.5,-995.529\" stroke=\"black\"/>\n",
       "</g>\n",
       "<!-- 139678130608392 -->\n",
       "<g class=\"node\" id=\"node10\"><title>139678130608392</title>\n",
       "<polygon fill=\"none\" points=\"0,-876.5 0,-912.5 332,-912.5 332,-876.5 0,-876.5\" stroke=\"black\"/>\n",
       "<text font-family=\"Times,serif\" font-size=\"14.00\" text-anchor=\"middle\" x=\"166\" y=\"-890.8\">batch_normalization_3: BatchNormalization</text>\n",
       "</g>\n",
       "<!-- 139678142129432&#45;&gt;139678130608392 -->\n",
       "<g class=\"edge\" id=\"edge9\"><title>139678142129432-&gt;139678130608392</title>\n",
       "<path d=\"M166,-949.313C166,-941.289 166,-931.547 166,-922.569\" fill=\"none\" stroke=\"black\"/>\n",
       "<polygon fill=\"black\" points=\"169.5,-922.529 166,-912.529 162.5,-922.529 169.5,-922.529\" stroke=\"black\"/>\n",
       "</g>\n",
       "<!-- 139678130347704 -->\n",
       "<g class=\"node\" id=\"node11\"><title>139678130347704</title>\n",
       "<polygon fill=\"none\" points=\"72.5,-803.5 72.5,-839.5 259.5,-839.5 259.5,-803.5 72.5,-803.5\" stroke=\"black\"/>\n",
       "<text font-family=\"Times,serif\" font-size=\"14.00\" text-anchor=\"middle\" x=\"166\" y=\"-817.8\">activation_3: Activation</text>\n",
       "</g>\n",
       "<!-- 139678130608392&#45;&gt;139678130347704 -->\n",
       "<g class=\"edge\" id=\"edge10\"><title>139678130608392-&gt;139678130347704</title>\n",
       "<path d=\"M166,-876.313C166,-868.289 166,-858.547 166,-849.569\" fill=\"none\" stroke=\"black\"/>\n",
       "<polygon fill=\"black\" points=\"169.5,-849.529 166,-839.529 162.5,-849.529 169.5,-849.529\" stroke=\"black\"/>\n",
       "</g>\n",
       "<!-- 139678129998480 -->\n",
       "<g class=\"node\" id=\"node12\"><title>139678129998480</title>\n",
       "<polygon fill=\"none\" points=\"90.5,-730.5 90.5,-766.5 241.5,-766.5 241.5,-730.5 90.5,-730.5\" stroke=\"black\"/>\n",
       "<text font-family=\"Times,serif\" font-size=\"14.00\" text-anchor=\"middle\" x=\"166\" y=\"-744.8\">conv2d_4: Conv2D</text>\n",
       "</g>\n",
       "<!-- 139678130347704&#45;&gt;139678129998480 -->\n",
       "<g class=\"edge\" id=\"edge11\"><title>139678130347704-&gt;139678129998480</title>\n",
       "<path d=\"M166,-803.313C166,-795.289 166,-785.547 166,-776.569\" fill=\"none\" stroke=\"black\"/>\n",
       "<polygon fill=\"black\" points=\"169.5,-776.529 166,-766.529 162.5,-776.529 169.5,-776.529\" stroke=\"black\"/>\n",
       "</g>\n",
       "<!-- 139678130425136 -->\n",
       "<g class=\"node\" id=\"node13\"><title>139678130425136</title>\n",
       "<polygon fill=\"none\" points=\"0,-657.5 0,-693.5 332,-693.5 332,-657.5 0,-657.5\" stroke=\"black\"/>\n",
       "<text font-family=\"Times,serif\" font-size=\"14.00\" text-anchor=\"middle\" x=\"166\" y=\"-671.8\">batch_normalization_4: BatchNormalization</text>\n",
       "</g>\n",
       "<!-- 139678129998480&#45;&gt;139678130425136 -->\n",
       "<g class=\"edge\" id=\"edge12\"><title>139678129998480-&gt;139678130425136</title>\n",
       "<path d=\"M166,-730.313C166,-722.289 166,-712.547 166,-703.569\" fill=\"none\" stroke=\"black\"/>\n",
       "<polygon fill=\"black\" points=\"169.5,-703.529 166,-693.529 162.5,-703.529 169.5,-703.529\" stroke=\"black\"/>\n",
       "</g>\n",
       "<!-- 139678129455960 -->\n",
       "<g class=\"node\" id=\"node14\"><title>139678129455960</title>\n",
       "<polygon fill=\"none\" points=\"72.5,-584.5 72.5,-620.5 259.5,-620.5 259.5,-584.5 72.5,-584.5\" stroke=\"black\"/>\n",
       "<text font-family=\"Times,serif\" font-size=\"14.00\" text-anchor=\"middle\" x=\"166\" y=\"-598.8\">activation_4: Activation</text>\n",
       "</g>\n",
       "<!-- 139678130425136&#45;&gt;139678129455960 -->\n",
       "<g class=\"edge\" id=\"edge13\"><title>139678130425136-&gt;139678129455960</title>\n",
       "<path d=\"M166,-657.313C166,-649.289 166,-639.547 166,-630.569\" fill=\"none\" stroke=\"black\"/>\n",
       "<polygon fill=\"black\" points=\"169.5,-630.529 166,-620.529 162.5,-630.529 169.5,-630.529\" stroke=\"black\"/>\n",
       "</g>\n",
       "<!-- 139678129455512 -->\n",
       "<g class=\"node\" id=\"node15\"><title>139678129455512</title>\n",
       "<polygon fill=\"none\" points=\"39,-511.5 39,-547.5 293,-547.5 293,-511.5 39,-511.5\" stroke=\"black\"/>\n",
       "<text font-family=\"Times,serif\" font-size=\"14.00\" text-anchor=\"middle\" x=\"166\" y=\"-525.8\">max_pooling2d_2: MaxPooling2D</text>\n",
       "</g>\n",
       "<!-- 139678129455960&#45;&gt;139678129455512 -->\n",
       "<g class=\"edge\" id=\"edge14\"><title>139678129455960-&gt;139678129455512</title>\n",
       "<path d=\"M166,-584.313C166,-576.289 166,-566.547 166,-557.569\" fill=\"none\" stroke=\"black\"/>\n",
       "<polygon fill=\"black\" points=\"169.5,-557.529 166,-547.529 162.5,-557.529 169.5,-557.529\" stroke=\"black\"/>\n",
       "</g>\n",
       "<!-- 139678129144496 -->\n",
       "<g class=\"node\" id=\"node16\"><title>139678129144496</title>\n",
       "<polygon fill=\"none\" points=\"96,-438.5 96,-474.5 236,-474.5 236,-438.5 96,-438.5\" stroke=\"black\"/>\n",
       "<text font-family=\"Times,serif\" font-size=\"14.00\" text-anchor=\"middle\" x=\"166\" y=\"-452.8\">flatten_1: Flatten</text>\n",
       "</g>\n",
       "<!-- 139678129455512&#45;&gt;139678129144496 -->\n",
       "<g class=\"edge\" id=\"edge15\"><title>139678129455512-&gt;139678129144496</title>\n",
       "<path d=\"M166,-511.313C166,-503.289 166,-493.547 166,-484.569\" fill=\"none\" stroke=\"black\"/>\n",
       "<polygon fill=\"black\" points=\"169.5,-484.529 166,-474.529 162.5,-484.529 169.5,-484.529\" stroke=\"black\"/>\n",
       "</g>\n",
       "<!-- 139678128080040 -->\n",
       "<g class=\"node\" id=\"node17\"><title>139678128080040</title>\n",
       "<polygon fill=\"none\" points=\"102,-365.5 102,-401.5 230,-401.5 230,-365.5 102,-365.5\" stroke=\"black\"/>\n",
       "<text font-family=\"Times,serif\" font-size=\"14.00\" text-anchor=\"middle\" x=\"166\" y=\"-379.8\">dense_1: Dense</text>\n",
       "</g>\n",
       "<!-- 139678129144496&#45;&gt;139678128080040 -->\n",
       "<g class=\"edge\" id=\"edge16\"><title>139678129144496-&gt;139678128080040</title>\n",
       "<path d=\"M166,-438.313C166,-430.289 166,-420.547 166,-411.569\" fill=\"none\" stroke=\"black\"/>\n",
       "<polygon fill=\"black\" points=\"169.5,-411.529 166,-401.529 162.5,-411.529 169.5,-411.529\" stroke=\"black\"/>\n",
       "</g>\n",
       "<!-- 139678128382528 -->\n",
       "<g class=\"node\" id=\"node18\"><title>139678128382528</title>\n",
       "<polygon fill=\"none\" points=\"0,-292.5 0,-328.5 332,-328.5 332,-292.5 0,-292.5\" stroke=\"black\"/>\n",
       "<text font-family=\"Times,serif\" font-size=\"14.00\" text-anchor=\"middle\" x=\"166\" y=\"-306.8\">batch_normalization_5: BatchNormalization</text>\n",
       "</g>\n",
       "<!-- 139678128080040&#45;&gt;139678128382528 -->\n",
       "<g class=\"edge\" id=\"edge17\"><title>139678128080040-&gt;139678128382528</title>\n",
       "<path d=\"M166,-365.313C166,-357.289 166,-347.547 166,-338.569\" fill=\"none\" stroke=\"black\"/>\n",
       "<polygon fill=\"black\" points=\"169.5,-338.529 166,-328.529 162.5,-338.529 169.5,-338.529\" stroke=\"black\"/>\n",
       "</g>\n",
       "<!-- 139678127949416 -->\n",
       "<g class=\"node\" id=\"node19\"><title>139678127949416</title>\n",
       "<polygon fill=\"none\" points=\"87.5,-219.5 87.5,-255.5 244.5,-255.5 244.5,-219.5 87.5,-219.5\" stroke=\"black\"/>\n",
       "<text font-family=\"Times,serif\" font-size=\"14.00\" text-anchor=\"middle\" x=\"166\" y=\"-233.8\">dropout_1: Dropout</text>\n",
       "</g>\n",
       "<!-- 139678128382528&#45;&gt;139678127949416 -->\n",
       "<g class=\"edge\" id=\"edge18\"><title>139678128382528-&gt;139678127949416</title>\n",
       "<path d=\"M166,-292.313C166,-284.289 166,-274.547 166,-265.569\" fill=\"none\" stroke=\"black\"/>\n",
       "<polygon fill=\"black\" points=\"169.5,-265.529 166,-255.529 162.5,-265.529 169.5,-265.529\" stroke=\"black\"/>\n",
       "</g>\n",
       "<!-- 139678127949248 -->\n",
       "<g class=\"node\" id=\"node20\"><title>139678127949248</title>\n",
       "<polygon fill=\"none\" points=\"72.5,-146.5 72.5,-182.5 259.5,-182.5 259.5,-146.5 72.5,-146.5\" stroke=\"black\"/>\n",
       "<text font-family=\"Times,serif\" font-size=\"14.00\" text-anchor=\"middle\" x=\"166\" y=\"-160.8\">activation_5: Activation</text>\n",
       "</g>\n",
       "<!-- 139678127949416&#45;&gt;139678127949248 -->\n",
       "<g class=\"edge\" id=\"edge19\"><title>139678127949416-&gt;139678127949248</title>\n",
       "<path d=\"M166,-219.313C166,-211.289 166,-201.547 166,-192.569\" fill=\"none\" stroke=\"black\"/>\n",
       "<polygon fill=\"black\" points=\"169.5,-192.529 166,-182.529 162.5,-192.529 169.5,-192.529\" stroke=\"black\"/>\n",
       "</g>\n",
       "<!-- 139678127514848 -->\n",
       "<g class=\"node\" id=\"node21\"><title>139678127514848</title>\n",
       "<polygon fill=\"none\" points=\"102,-73.5 102,-109.5 230,-109.5 230,-73.5 102,-73.5\" stroke=\"black\"/>\n",
       "<text font-family=\"Times,serif\" font-size=\"14.00\" text-anchor=\"middle\" x=\"166\" y=\"-87.8\">dense_2: Dense</text>\n",
       "</g>\n",
       "<!-- 139678127949248&#45;&gt;139678127514848 -->\n",
       "<g class=\"edge\" id=\"edge20\"><title>139678127949248-&gt;139678127514848</title>\n",
       "<path d=\"M166,-146.313C166,-138.289 166,-128.547 166,-119.569\" fill=\"none\" stroke=\"black\"/>\n",
       "<polygon fill=\"black\" points=\"169.5,-119.529 166,-109.529 162.5,-119.529 169.5,-119.529\" stroke=\"black\"/>\n",
       "</g>\n",
       "<!-- 139678127517312 -->\n",
       "<g class=\"node\" id=\"node22\"><title>139678127517312</title>\n",
       "<polygon fill=\"none\" points=\"72.5,-0.5 72.5,-36.5 259.5,-36.5 259.5,-0.5 72.5,-0.5\" stroke=\"black\"/>\n",
       "<text font-family=\"Times,serif\" font-size=\"14.00\" text-anchor=\"middle\" x=\"166\" y=\"-14.8\">activation_6: Activation</text>\n",
       "</g>\n",
       "<!-- 139678127514848&#45;&gt;139678127517312 -->\n",
       "<g class=\"edge\" id=\"edge21\"><title>139678127514848-&gt;139678127517312</title>\n",
       "<path d=\"M166,-73.3129C166,-65.2895 166,-55.5475 166,-46.5691\" fill=\"none\" stroke=\"black\"/>\n",
       "<polygon fill=\"black\" points=\"169.5,-46.5288 166,-36.5288 162.5,-46.5289 169.5,-46.5288\" stroke=\"black\"/>\n",
       "</g>\n",
       "</g>\n",
       "</svg>"
      ],
      "text/plain": [
       "<IPython.core.display.SVG object>"
      ]
     },
     "execution_count": 11,
     "metadata": {},
     "output_type": "execute_result"
    }
   ],
   "source": [
    "SVG(model_to_dot(model).create(prog='dot', format='svg'))"
   ]
  },
  {
   "cell_type": "code",
   "execution_count": 12,
   "metadata": {},
   "outputs": [],
   "source": [
    "tensorboard = keras.callbacks.TensorBoard(\n",
    "        log_dir='tensorboard/mnist/' + name + '/', \n",
    "        write_graph=True,\n",
    "        histogram_freq=0)"
   ]
  },
  {
   "cell_type": "code",
   "execution_count": 13,
   "metadata": {},
   "outputs": [
    {
     "name": "stdout",
     "output_type": "stream",
     "text": [
      "Train on 2400 samples, validate on 600 samples\n",
      "Epoch 1/30\n",
      " - 11s - loss: 1.7153 - acc: 0.4804 - val_loss: 1.2256 - val_acc: 0.7783\n",
      "Epoch 2/30\n",
      " - 11s - loss: 0.9528 - acc: 0.7787 - val_loss: 0.8187 - val_acc: 0.8633\n",
      "Epoch 3/30\n",
      " - 12s - loss: 0.6620 - acc: 0.8667 - val_loss: 0.6418 - val_acc: 0.8850\n",
      "Epoch 4/30\n",
      " - 11s - loss: 0.5180 - acc: 0.9083 - val_loss: 0.5397 - val_acc: 0.9117\n",
      "Epoch 5/30\n",
      " - 11s - loss: 0.4214 - acc: 0.9283 - val_loss: 0.4307 - val_acc: 0.9200\n",
      "Epoch 6/30\n",
      " - 11s - loss: 0.3447 - acc: 0.9438 - val_loss: 0.3799 - val_acc: 0.9317\n",
      "Epoch 7/30\n",
      " - 11s - loss: 0.3088 - acc: 0.9479 - val_loss: 0.3551 - val_acc: 0.9367\n",
      "Epoch 8/30\n",
      " - 11s - loss: 0.2643 - acc: 0.9583 - val_loss: 0.3236 - val_acc: 0.9467\n",
      "Epoch 9/30\n",
      " - 11s - loss: 0.2252 - acc: 0.9633 - val_loss: 0.3015 - val_acc: 0.9500\n",
      "Epoch 10/30\n",
      " - 11s - loss: 0.2086 - acc: 0.9667 - val_loss: 0.2851 - val_acc: 0.9500\n",
      "Epoch 11/30\n",
      " - 11s - loss: 0.1763 - acc: 0.9762 - val_loss: 0.2772 - val_acc: 0.9500\n",
      "Epoch 12/30\n",
      " - 11s - loss: 0.1505 - acc: 0.9792 - val_loss: 0.2720 - val_acc: 0.9533\n",
      "Epoch 13/30\n",
      " - 11s - loss: 0.1402 - acc: 0.9821 - val_loss: 0.2642 - val_acc: 0.9600\n",
      "Epoch 14/30\n",
      " - 11s - loss: 0.1232 - acc: 0.9846 - val_loss: 0.2556 - val_acc: 0.9583\n",
      "Epoch 15/30\n",
      " - 11s - loss: 0.1058 - acc: 0.9892 - val_loss: 0.2429 - val_acc: 0.9583\n",
      "Epoch 16/30\n",
      " - 11s - loss: 0.1097 - acc: 0.9871 - val_loss: 0.2419 - val_acc: 0.9600\n",
      "Epoch 17/30\n",
      " - 11s - loss: 0.0932 - acc: 0.9887 - val_loss: 0.2407 - val_acc: 0.9617\n",
      "Epoch 18/30\n",
      " - 11s - loss: 0.0875 - acc: 0.9908 - val_loss: 0.2341 - val_acc: 0.9600\n",
      "Epoch 19/30\n",
      " - 11s - loss: 0.0747 - acc: 0.9942 - val_loss: 0.2359 - val_acc: 0.9550\n",
      "Epoch 20/30\n",
      " - 11s - loss: 0.0753 - acc: 0.9917 - val_loss: 0.2298 - val_acc: 0.9633\n",
      "Epoch 21/30\n",
      " - 13s - loss: 0.0651 - acc: 0.9954 - val_loss: 0.2251 - val_acc: 0.9617\n",
      "Epoch 22/30\n",
      " - 11s - loss: 0.0643 - acc: 0.9938 - val_loss: 0.2200 - val_acc: 0.9617\n",
      "Epoch 23/30\n",
      " - 11s - loss: 0.0511 - acc: 0.9971 - val_loss: 0.2235 - val_acc: 0.9617\n",
      "Epoch 24/30\n",
      " - 11s - loss: 0.0530 - acc: 0.9950 - val_loss: 0.2214 - val_acc: 0.9633\n",
      "Epoch 25/30\n",
      " - 11s - loss: 0.0469 - acc: 0.9975 - val_loss: 0.2229 - val_acc: 0.9617\n",
      "Epoch 26/30\n",
      " - 11s - loss: 0.0464 - acc: 0.9962 - val_loss: 0.2130 - val_acc: 0.9633\n",
      "Epoch 27/30\n",
      " - 11s - loss: 0.0429 - acc: 0.9979 - val_loss: 0.2201 - val_acc: 0.9617\n",
      "Epoch 28/30\n",
      " - 11s - loss: 0.0420 - acc: 0.9958 - val_loss: 0.2146 - val_acc: 0.9650\n",
      "Epoch 29/30\n",
      " - 11s - loss: 0.0375 - acc: 0.9971 - val_loss: 0.2209 - val_acc: 0.9617\n",
      "Epoch 30/30\n",
      " - 11s - loss: 0.0357 - acc: 0.9971 - val_loss: 0.2176 - val_acc: 0.9617\n"
     ]
    }
   ],
   "source": [
    "history=model.fit(X_train, Y_train, \n",
    "                  batch_size=128, \n",
    "                  epochs=30,\n",
    "                  verbose=2, \n",
    "                  validation_data=(X_val, Y_val),\n",
    "                  callbacks=[tensorboard])"
   ]
  },
  {
   "cell_type": "code",
   "execution_count": 14,
   "metadata": {},
   "outputs": [
    {
     "data": {
      "image/png": "[encoded data removed]",
      "text/plain": [
       "<matplotlib.figure.Figure at 0x7f095472c668>"
      ]
     },
     "metadata": {},
     "output_type": "display_data"
    },
    {
     "data": {
      "image/png": "[encoded data removed]",
      "text/plain": [
       "<matplotlib.figure.Figure at 0x7f09543cbf60>"
      ]
     },
     "metadata": {},
     "output_type": "display_data"
    }
   ],
   "source": [
    "# summarize history for accuracy\n",
    "plt.plot(history.history['acc'])\n",
    "plt.plot(history.history['val_acc'])\n",
    "plt.title('model accuracy')\n",
    "plt.ylabel('accuracy')\n",
    "plt.xlabel('epoch')\n",
    "plt.legend(['train', 'valid'], loc='lower right')\n",
    "plt.show()\n",
    "plt.plot(history.history['loss'])\n",
    "plt.plot(history.history['val_loss'])\n",
    "plt.title('model loss')\n",
    "plt.ylabel('loss')\n",
    "plt.xlabel('epoch')\n",
    "plt.legend(['train', 'valid'], loc='upper right')\n",
    "plt.show()"
   ]
  },
  {
   "cell_type": "markdown",
   "metadata": {},
   "source": [
    "## Prediction on the test set\n"
   ]
  },
  {
   "cell_type": "code",
   "execution_count": 15,
   "metadata": {},
   "outputs": [
    {
     "name": "stdout",
     "output_type": "stream",
     "text": [
      "[[ 84   0   0   0   0   0   1   0   0   0]\n",
      " [  0 125   1   0   0   0   0   0   0   0]\n",
      " [  0   1 108   0   0   0   0   2   4   1]\n",
      " [  0   0   0 102   0   2   0   1   1   1]\n",
      " [  0   0   0   0 100   0   2   1   1   6]\n",
      " [  0   0   0   3   0  81   1   1   1   0]\n",
      " [  2   0   0   0   0   2  82   0   0   1]\n",
      " [  0   1   1   1   1   0   0  94   0   1]\n",
      " [  2   0   1   1   2   0   1   1  80   1]\n",
      " [  0   0   0   0   0   0   0   2   0  92]]\n",
      "Acc =  0.948\n"
     ]
    }
   ],
   "source": [
    "X_test_norm = np.array((X_test - X_mean ) / (X_std + 0.0001),dtype=\"float32\")\n",
    "pred=model.predict(X_test_norm)\n",
    "print(confusion_matrix(Y_test,np.argmax(pred,axis=1)))\n",
    "print(\"Acc = \" ,np.sum(Y_test==np.argmax(pred,axis=1))/len(pred))"
   ]
  },
  {
   "cell_type": "code",
   "execution_count": 16,
   "metadata": {},
   "outputs": [],
   "source": [
    "#!tensorboard --logdir=tensorboard/tensorboard/mnist/"
   ]
  },
  {
   "cell_type": "code",
   "execution_count": null,
   "metadata": {
    "collapsed": true
   },
   "outputs": [],
   "source": []
  }
 ],
 "metadata": {
  "kernelspec": {
   "display_name": "Python 3",
   "language": "python",
   "name": "python3"
  },
  "language_info": {
   "codemirror_mode": {
    "name": "ipython",
    "version": 3
   },
   "file_extension": ".py",
   "mimetype": "text/x-python",
   "name": "python",
   "nbconvert_exporter": "python",
   "pygments_lexer": "ipython3",
   "version": "3.5.2"
  }
 },
 "nbformat": 4,
 "nbformat_minor": 1
}
