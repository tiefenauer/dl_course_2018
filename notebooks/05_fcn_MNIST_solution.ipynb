{
 "cells": [
  {
   "cell_type": "markdown",
   "metadata": {},
   "source": [
    "# Multilayer perceptron in TensorFlow (plain vanilla)\n",
    "\n",
    "In this script we build a small multilayer perceptron with two hidden layers having 500 and 50 neurons each for classifying the MNIST database of handwritten digits."
   ]
  },
  {
   "cell_type": "code",
   "execution_count": 1,
   "metadata": {},
   "outputs": [
    {
     "name": "stderr",
     "output_type": "stream",
     "text": [
      "/usr/local/lib/python3.5/dist-packages/h5py/__init__.py:36: FutureWarning: Conversion of the second argument of issubdtype from `float` to `np.floating` is deprecated. In future, it will be treated as `np.float64 == np.dtype(float).type`.\n",
      "  from ._conv import register_converters as _register_converters\n"
     ]
    },
    {
     "data": {
      "text/plain": [
       "('1.6.0',\n",
       " sys.version_info(major=3, minor=5, micro=2, releaselevel='final', serial=0))"
      ]
     },
     "execution_count": 1,
     "metadata": {},
     "output_type": "execute_result"
    }
   ],
   "source": [
    "%matplotlib inline\n",
    "import matplotlib.pyplot as plt\n",
    "import matplotlib.image as imgplot\n",
    "import numpy as np\n",
    "import time\n",
    "import tensorflow as tf\n",
    "import pandas as pd\n",
    "tf.set_random_seed(1)\n",
    "np.random.seed(1)\n",
    "import sys\n",
    "tf.__version__, sys.version_info"
   ]
  },
  {
   "cell_type": "code",
   "execution_count": 2,
   "metadata": {},
   "outputs": [
    {
     "name": "stdout",
     "output_type": "stream",
     "text": [
      "(4000, 1, 28, 28) (4000,) 28\n"
     ]
    },
    {
     "data": {
      "text/plain": [
       "(4000, 784)"
      ]
     },
     "execution_count": 2,
     "metadata": {},
     "output_type": "execute_result"
    }
   ],
   "source": [
    "# To be compatible with python3 and python2\n",
    "try:\n",
    "    import cPickle as pickle\n",
    "except ImportError:\n",
    "    import pickle\n",
    "import gzip\n",
    "\n",
    "with gzip.open('../data/mnist_4000.pkl.gz', 'rb') as f:\n",
    "    if sys.version_info.major > 2:\n",
    "        (X,y) = pickle.load(f, encoding='latin1')\n",
    "    else:\n",
    "        (X,y) = pickle.load(f)\n",
    "PIXELS = len(X[0,0,0,:])\n",
    "\n",
    "print(X.shape, y.shape, PIXELS) #As read\n",
    "# We need to reshape for the MLP\n",
    "X = X.reshape([4000, 784])\n",
    "np.shape(X)"
   ]
  },
  {
   "cell_type": "code",
   "execution_count": 3,
   "metadata": {},
   "outputs": [],
   "source": [
    "# Taken from http://stackoverflow.com/questions/29831489/numpy-1-hot-array\n",
    "def convertToOneHot(vector, num_classes=None):\n",
    "    result = np.zeros((len(vector), num_classes), dtype='int32')\n",
    "    result[np.arange(len(vector)), vector] = 1\n",
    "    return result"
   ]
  },
  {
   "cell_type": "markdown",
   "metadata": {},
   "source": [
    "## Building the network\n",
    "Build a network with the following architecture.\n",
    "\n",
    "### Definition of the network (architecture)\n",
    "\n",
    "* An Input Layer with the following 2-dimensions: \n",
    "    * 0: Batch Size yet unkown hence `None`\n",
    "    * 1: 784 = 28*28 pixels\n",
    "* A hidden layer with 500 units\n",
    "* A second hidden layer with 50 units\n",
    "* An output layer with 10 units\n",
    "\n",
    "### Hints\n",
    "* The weights can be specified and intitialized as\n",
    "```{python}\n",
    "    w_1 = tf.Variable(tf.random_normal([784, 500]))\n",
    "```\n",
    "* Use ```tf.nn.sigmoid``` activations for the hidden layer"
   ]
  },
  {
   "cell_type": "code",
   "execution_count": 4,
   "metadata": {},
   "outputs": [],
   "source": [
    "tf.reset_default_graph()\n",
    "tf.set_random_seed(1)\n",
    "x = tf.placeholder(tf.float32, shape=[None, 784], name='x_data')\n",
    "y_true = tf.placeholder(tf.float32, shape=[None, 10], name='y_data')\n",
    "\n",
    "# From Input to first hidden layer\n",
    "w_1 = tf.Variable(tf.random_normal([784, 500], stddev=0.1))\n",
    "b_1 = tf.Variable(tf.random_normal([500]))\n",
    "h_1_in = tf.add(tf.matmul(x, w_1), b_1)\n",
    "h_1_out = tf.nn.sigmoid(h_1_in)\n",
    "\n",
    "# From first hidden layer to second hidden layer\n",
    "# <--- Your code here --->\n",
    "w_2 = tf.Variable(tf.random_normal([500, 50], stddev=0.1))\n",
    "b_2 = tf.Variable(tf.random_normal([50]))\n",
    "h_2_in = tf.add(tf.matmul(h_1_out, w_2), b_2)\n",
    "h_2_out = tf.nn.sigmoid(h_2_in)\n",
    "# <--- End of your code here --->\n",
    "\n",
    "# From second hidden layer to output\n",
    "w_3 = tf.Variable(tf.random_normal([50, 10], stddev=0.1))\n",
    "b_3 = tf.Variable(tf.random_normal([10]))\n",
    "h_3_in = tf.add(tf.matmul(h_2_out, w_3), b_3)\n",
    "\n",
    "# Output is softmax\n",
    "out = tf.nn.softmax(h_3_in)\n",
    "init_op = tf.global_variables_initializer() "
   ]
  },
  {
   "cell_type": "markdown",
   "metadata": {},
   "source": [
    "### Store the graph and visualize it in tensorflow"
   ]
  },
  {
   "cell_type": "code",
   "execution_count": 5,
   "metadata": {},
   "outputs": [
    {
     "data": {
      "text/plain": [
       "<tensorflow.python.summary.writer.writer.FileWriter at 0x7f7355a74a20>"
      ]
     },
     "execution_count": 5,
     "metadata": {},
     "output_type": "execute_result"
    }
   ],
   "source": [
    "tf.summary.FileWriter(\"tmp/fcn_minst_tensorflow/\", tf.get_default_graph()) #<--- Where to store"
   ]
  },
  {
   "cell_type": "markdown",
   "metadata": {},
   "source": [
    "### Doing a forward pass of the untrained network"
   ]
  },
  {
   "cell_type": "code",
   "execution_count": 6,
   "metadata": {},
   "outputs": [
    {
     "data": {
      "text/plain": [
       "array([[0.2901188 , 0.07582619, 0.09984875, 0.05227003, 0.01745035,\n",
       "        0.04776024, 0.09137144, 0.03255811, 0.26810396, 0.0246921 ],\n",
       "       [0.27193338, 0.07854532, 0.09609108, 0.06423978, 0.0168191 ,\n",
       "        0.05194506, 0.10811424, 0.0330158 , 0.2541617 , 0.02513461]],\n",
       "      dtype=float32)"
      ]
     },
     "execution_count": 6,
     "metadata": {},
     "output_type": "execute_result"
    }
   ],
   "source": [
    "with tf.Session() as sess:\n",
    "    sess.run(init_op)\n",
    "    res_val = sess.run(out, feed_dict={x:X[0:2]})\n",
    "res_val"
   ]
  },
  {
   "cell_type": "markdown",
   "metadata": {},
   "source": [
    "### Train the model"
   ]
  },
  {
   "cell_type": "code",
   "execution_count": 7,
   "metadata": {},
   "outputs": [
    {
     "name": "stdout",
     "output_type": "stream",
     "text": [
      "0 Training: loss 2.680553913116455 acc 0.15625 Validation: loss 2.611811637878418 acc 0.1\n",
      "100 Training: loss 2.024678945541382 acc 0.5390625 Validation: loss 2.0123116970062256 acc 0.5566666666666666\n",
      "200 Training: loss 1.608280897140503 acc 0.7109375 Validation: loss 1.651760220527649 acc 0.68\n",
      "300 Training: loss 1.3316783905029297 acc 0.75 Validation: loss 1.2998077869415283 acc 0.7466666666666667\n",
      "400 Training: loss 0.9989284873008728 acc 0.8046875 Validation: loss 1.0448917150497437 acc 0.7916666666666666\n",
      "500 Training: loss 0.8113168478012085 acc 0.8359375 Validation: loss 0.8626354932785034 acc 0.8233333333333334\n",
      "600 Training: loss 0.633406400680542 acc 0.90625 Validation: loss 0.7348583340644836 acc 0.8316666666666667\n",
      "700 Training: loss 0.6076101064682007 acc 0.8984375 Validation: loss 0.6474040746688843 acc 0.8433333333333334\n",
      "800 Training: loss 0.5535985231399536 acc 0.875 Validation: loss 0.5841870307922363 acc 0.8416666666666667\n",
      "900 Training: loss 0.489669531583786 acc 0.9140625 Validation: loss 0.5351048707962036 acc 0.8583333333333333\n",
      "1000 Training: loss 0.439785361289978 acc 0.8984375 Validation: loss 0.49837687611579895 acc 0.86\n",
      "1100 Training: loss 0.42897436022758484 acc 0.921875 Validation: loss 0.4694732129573822 acc 0.8733333333333333\n",
      "1200 Training: loss 0.4788679778575897 acc 0.8984375 Validation: loss 0.44580647349357605 acc 0.88\n",
      "1300 Training: loss 0.40263625979423523 acc 0.9140625 Validation: loss 0.42911651730537415 acc 0.8816666666666667\n",
      "1400 Training: loss 0.2642154097557068 acc 0.9609375 Validation: loss 0.41294580698013306 acc 0.885\n",
      "1500 Training: loss 0.29152435064315796 acc 0.9453125 Validation: loss 0.3994802236557007 acc 0.8866666666666667\n",
      "1600 Training: loss 0.2570004463195801 acc 0.96875 Validation: loss 0.38993901014328003 acc 0.895\n",
      "1700 Training: loss 0.2161933183670044 acc 0.9296875 Validation: loss 0.37920334935188293 acc 0.8933333333333333\n",
      "1800 Training: loss 0.3450426757335663 acc 0.90625 Validation: loss 0.37104249000549316 acc 0.8933333333333333\n",
      "1900 Training: loss 0.3205493986606598 acc 0.90625 Validation: loss 0.3632827401161194 acc 0.8966666666666666\n",
      "2000 Training: loss 0.22906367480754852 acc 0.9609375 Validation: loss 0.35786205530166626 acc 0.8966666666666666\n",
      "2100 Training: loss 0.23976939916610718 acc 0.96875 Validation: loss 0.3558947741985321 acc 0.9\n",
      "2200 Training: loss 0.23551061749458313 acc 0.921875 Validation: loss 0.35234758257865906 acc 0.9016666666666666\n",
      "2300 Training: loss 0.27665743231773376 acc 0.9375 Validation: loss 0.3498169481754303 acc 0.8966666666666666\n",
      "2400 Training: loss 0.20614299178123474 acc 0.9609375 Validation: loss 0.34319621324539185 acc 0.9\n",
      "2500 Training: loss 0.13863331079483032 acc 0.96875 Validation: loss 0.3419794738292694 acc 0.9016666666666666\n",
      "2600 Training: loss 0.22347985208034515 acc 0.9609375 Validation: loss 0.33682653307914734 acc 0.9016666666666666\n",
      "2700 Training: loss 0.1495334506034851 acc 0.9453125 Validation: loss 0.33629170060157776 acc 0.905\n",
      "2800 Training: loss 0.18478184938430786 acc 0.9609375 Validation: loss 0.3317892849445343 acc 0.9033333333333333\n",
      "2900 Training: loss 0.14891844987869263 acc 0.9609375 Validation: loss 0.3308151662349701 acc 0.9\n",
      "3000 Training: loss 0.14436939358711243 acc 0.9609375 Validation: loss 0.32827696204185486 acc 0.9033333333333333\n",
      "3100 Training: loss 0.09601454436779022 acc 0.9921875 Validation: loss 0.3287052810192108 acc 0.9016666666666666\n",
      "3200 Training: loss 0.09207974374294281 acc 0.984375 Validation: loss 0.3285277783870697 acc 0.9\n",
      "3300 Training: loss 0.11232107877731323 acc 0.9921875 Validation: loss 0.32722043991088867 acc 0.9016666666666666\n",
      "3400 Training: loss 0.14212971925735474 acc 0.9765625 Validation: loss 0.32696253061294556 acc 0.9\n",
      "3500 Training: loss 0.12421662360429764 acc 0.984375 Validation: loss 0.325704425573349 acc 0.9\n",
      "3600 Training: loss 0.13649731874465942 acc 0.96875 Validation: loss 0.32629695534706116 acc 0.9\n",
      "3700 Training: loss 0.09847109764814377 acc 0.984375 Validation: loss 0.3246805965900421 acc 0.8966666666666666\n",
      "3800 Training: loss 0.10841481387615204 acc 0.96875 Validation: loss 0.3239865005016327 acc 0.8983333333333333\n",
      "3900 Training: loss 0.0656508058309555 acc 1.0 Validation: loss 0.32193201780319214 acc 0.9\n"
     ]
    }
   ],
   "source": [
    "loss = tf.reduce_mean(-tf.reduce_sum(y_true * tf.log(out), reduction_indices=[1]))\n",
    "# <---- Your code here (fix the optimzer)\n",
    "train_op = tf.train.GradientDescentOptimizer(0.05).minimize(loss)\n",
    "init_op = tf.global_variables_initializer() \n",
    "vals = []\n",
    "with tf.Session() as sess:\n",
    "    sess.run(init_op)\n",
    "    for i in range(4000):\n",
    "        idx = np.random.permutation(2400)[0:128] #Easy minibatch of size 128\n",
    "        loss_, _, res_ = sess.run((loss, train_op,out), feed_dict={x:X[idx], y_true:convertToOneHot(y[idx], 10)})\n",
    "        if (i % 100 == 0):\n",
    "            # Get the results for the validation results (from 2400:3000)\n",
    "            acc = np.average(np.argmax(res_, axis = 1) == y[idx])\n",
    "            # <---------   Your code here -----------------\n",
    "            loss_v, res_val = sess.run([loss, out], feed_dict={x:X[2400:3000], y_true:convertToOneHot(y[2400:3000], 10)})\n",
    "            acc_v = np.average(np.argmax(res_val, axis = 1) == y[2400:3000])\n",
    "            # <---------  End of your code here\n",
    "            vals.append([loss_, acc, loss_v, acc_v])\n",
    "            print(\"{} Training: loss {} acc {} Validation: loss {} acc {}\".format(i, loss_, acc, loss_v, acc_v))"
   ]
  },
  {
   "cell_type": "code",
   "execution_count": 8,
   "metadata": {},
   "outputs": [
    {
     "data": {
      "image/png": "[encoded data removed]",
      "text/plain": [
       "<matplotlib.figure.Figure at 0x7f7355a3aba8>"
      ]
     },
     "metadata": {},
     "output_type": "display_data"
    },
    {
     "data": {
      "image/png": "[encoded data removed]",
      "text/plain": [
       "<matplotlib.figure.Figure at 0x7f73546aeeb8>"
      ]
     },
     "metadata": {},
     "output_type": "display_data"
    }
   ],
   "source": [
    "vals_df = pd.DataFrame(vals)\n",
    "vals_df.columns = ['tr_loss', 'tr_acc', 'val_loss', 'val_acc']\n",
    "vals_df['epochs'] = (np.asarray(range(len(vals_df))) * 100.0 * 128. / 2400)\n",
    "plt.plot(vals_df['epochs'],vals_df[[\"tr_acc\",\"val_acc\"]])\n",
    "plt.legend(['tr_acc', 'val_acc'], loc='lower right')\n",
    "plt.ylabel(\"Acc\")\n",
    "plt.xlabel(\"Epochs\")\n",
    "plt.title(\"model acc\")\n",
    "plt.show()\n",
    "plt.plot(vals_df['epochs'],vals_df[[\"tr_loss\",\"val_loss\"]])\n",
    "plt.legend(['tr_loss', 'val_loss'], loc='upper right')\n",
    "plt.ylabel(\"Loss\")\n",
    "plt.xlabel(\"Epochs\")\n",
    "plt.title(\"model loss\")\n",
    "plt.show()"
   ]
  },
  {
   "cell_type": "code",
   "execution_count": null,
   "metadata": {},
   "outputs": [],
   "source": [
    "!tensorboard --logdir=tmp/fcn_minst_tensorflow/"
   ]
  },
  {
   "cell_type": "code",
   "execution_count": null,
   "metadata": {},
   "outputs": [],
   "source": []
  }
 ],
 "metadata": {
  "kernelspec": {
   "display_name": "Python 3",
   "language": "python",
   "name": "python3"
  },
  "language_info": {
   "codemirror_mode": {
    "name": "ipython",
    "version": 3
   },
   "file_extension": ".py",
   "mimetype": "text/x-python",
   "name": "python",
   "nbconvert_exporter": "python",
   "pygments_lexer": "ipython3",
   "version": "3.5.2"
  }
 },
 "nbformat": 4,
 "nbformat_minor": 1
}
